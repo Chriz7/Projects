{
  "nbformat": 4,
  "nbformat_minor": 0,
  "metadata": {
    "colab": {
      "name": "Assignment4.ipynb",
      "provenance": [],
      "collapsed_sections": []
    },
    "kernelspec": {
      "name": "python3",
      "display_name": "Python 3"
    },
    "language_info": {
      "name": "python"
    }
  },
  "cells": [
    {
      "cell_type": "markdown",
      "source": [
        "### K-Means Project"
      ],
      "metadata": {
        "id": "akeO6oElTjMG"
      }
    },
    {
      "cell_type": "markdown",
      "source": [
        "#### Importing Data"
      ],
      "metadata": {
        "id": "WJgmP1kuToIj"
      }
    },
    {
      "cell_type": "code",
      "execution_count": null,
      "metadata": {
        "id": "Yq9vkBL0TWFf"
      },
      "outputs": [],
      "source": [
        "import numpy as np\n",
        "import pandas as pd\n",
        "import matplotlib.pyplot as plt\n",
        "import seaborn as sns\n",
        "from sklearn.cluster import KMeans\n",
        "from sklearn.preprocessing import MinMaxScaler"
      ]
    },
    {
      "cell_type": "code",
      "source": [
        "from google.colab import drive\n",
        "drive.mount('/content/drive')"
      ],
      "metadata": {
        "colab": {
          "base_uri": "https://localhost:8080/"
        },
        "id": "9KB6gC4HT0FF",
        "outputId": "1355325b-a754-4d5c-b91b-2fb523ee11c1"
      },
      "execution_count": null,
      "outputs": [
        {
          "output_type": "stream",
          "name": "stdout",
          "text": [
            "Drive already mounted at /content/drive; to attempt to forcibly remount, call drive.mount(\"/content/drive\", force_remount=True).\n"
          ]
        }
      ]
    },
    {
      "cell_type": "code",
      "source": [
        "df = pd.read_csv('/content/drive/MyDrive/Data_files/Pharmaceuticals.csv')"
      ],
      "metadata": {
        "id": "_I9VBs5dT2m1"
      },
      "execution_count": null,
      "outputs": []
    },
    {
      "cell_type": "markdown",
      "source": [
        "#### Data Analysis"
      ],
      "metadata": {
        "id": "1JwWWJSDiV5w"
      }
    },
    {
      "cell_type": "code",
      "source": [
        "df.info()          #getting an understanding of the data. I see there are 21 entries and their data types"
      ],
      "metadata": {
        "colab": {
          "base_uri": "https://localhost:8080/"
        },
        "id": "6uUCu3F0jsYx",
        "outputId": "57e909bb-06a7-449b-e8db-eb54e39782db"
      },
      "execution_count": null,
      "outputs": [
        {
          "output_type": "stream",
          "name": "stdout",
          "text": [
            "<class 'pandas.core.frame.DataFrame'>\n",
            "RangeIndex: 21 entries, 0 to 20\n",
            "Data columns (total 14 columns):\n",
            " #   Column                 Non-Null Count  Dtype  \n",
            "---  ------                 --------------  -----  \n",
            " 0   Symbol                 21 non-null     object \n",
            " 1   Name                   21 non-null     object \n",
            " 2   Market_Cap             21 non-null     float64\n",
            " 3   Beta                   21 non-null     float64\n",
            " 4   PE_Ratio               21 non-null     float64\n",
            " 5   ROE                    21 non-null     float64\n",
            " 6   ROA                    21 non-null     float64\n",
            " 7   Asset_Turnover         21 non-null     float64\n",
            " 8   Leverage               21 non-null     float64\n",
            " 9   Rev_Growth             21 non-null     float64\n",
            " 10  Net_Profit_Margin      21 non-null     float64\n",
            " 11  Median_Recommendation  21 non-null     object \n",
            " 12  Location               21 non-null     object \n",
            " 13  Exchange               21 non-null     object \n",
            "dtypes: float64(9), object(5)\n",
            "memory usage: 2.4+ KB\n"
          ]
        }
      ]
    },
    {
      "cell_type": "code",
      "source": [
        "df.head()     #visualizing the data"
      ],
      "metadata": {
        "colab": {
          "base_uri": "https://localhost:8080/",
          "height": 206
        },
        "id": "V7v9x4IMiVnb",
        "outputId": "27204246-7d55-4cb5-ea28-e0da5a628fd4"
      },
      "execution_count": null,
      "outputs": [
        {
          "output_type": "execute_result",
          "data": {
            "text/plain": [
              "  Symbol                 Name  Market_Cap  Beta  PE_Ratio   ROE   ROA  \\\n",
              "0    ABT  Abbott Laboratories       68.44  0.32      24.7  26.4  11.8   \n",
              "1    AGN       Allergan, Inc.        7.58  0.41      82.5  12.9   5.5   \n",
              "2    AHM         Amersham plc        6.30  0.46      20.7  14.9   7.8   \n",
              "3    AZN      AstraZeneca PLC       67.63  0.52      21.5  27.4  15.4   \n",
              "4    AVE              Aventis       47.16  0.32      20.1  21.8   7.5   \n",
              "\n",
              "   Asset_Turnover  Leverage  Rev_Growth  Net_Profit_Margin  \\\n",
              "0             0.7      0.42        7.54               16.1   \n",
              "1             0.9      0.60        9.16                5.5   \n",
              "2             0.9      0.27        7.05               11.2   \n",
              "3             0.9      0.00       15.00               18.0   \n",
              "4             0.6      0.34       26.81               12.9   \n",
              "\n",
              "  Median_Recommendation Location Exchange  \n",
              "0          Moderate Buy       US     NYSE  \n",
              "1          Moderate Buy   CANADA     NYSE  \n",
              "2            Strong Buy       UK     NYSE  \n",
              "3         Moderate Sell       UK     NYSE  \n",
              "4          Moderate Buy   FRANCE     NYSE  "
            ],
            "text/html": [
              "\n",
              "  <div id=\"df-3bd314b7-efb9-49ac-b50f-678e65c0921a\">\n",
              "    <div class=\"colab-df-container\">\n",
              "      <div>\n",
              "<style scoped>\n",
              "    .dataframe tbody tr th:only-of-type {\n",
              "        vertical-align: middle;\n",
              "    }\n",
              "\n",
              "    .dataframe tbody tr th {\n",
              "        vertical-align: top;\n",
              "    }\n",
              "\n",
              "    .dataframe thead th {\n",
              "        text-align: right;\n",
              "    }\n",
              "</style>\n",
              "<table border=\"1\" class=\"dataframe\">\n",
              "  <thead>\n",
              "    <tr style=\"text-align: right;\">\n",
              "      <th></th>\n",
              "      <th>Symbol</th>\n",
              "      <th>Name</th>\n",
              "      <th>Market_Cap</th>\n",
              "      <th>Beta</th>\n",
              "      <th>PE_Ratio</th>\n",
              "      <th>ROE</th>\n",
              "      <th>ROA</th>\n",
              "      <th>Asset_Turnover</th>\n",
              "      <th>Leverage</th>\n",
              "      <th>Rev_Growth</th>\n",
              "      <th>Net_Profit_Margin</th>\n",
              "      <th>Median_Recommendation</th>\n",
              "      <th>Location</th>\n",
              "      <th>Exchange</th>\n",
              "    </tr>\n",
              "  </thead>\n",
              "  <tbody>\n",
              "    <tr>\n",
              "      <th>0</th>\n",
              "      <td>ABT</td>\n",
              "      <td>Abbott Laboratories</td>\n",
              "      <td>68.44</td>\n",
              "      <td>0.32</td>\n",
              "      <td>24.7</td>\n",
              "      <td>26.4</td>\n",
              "      <td>11.8</td>\n",
              "      <td>0.7</td>\n",
              "      <td>0.42</td>\n",
              "      <td>7.54</td>\n",
              "      <td>16.1</td>\n",
              "      <td>Moderate Buy</td>\n",
              "      <td>US</td>\n",
              "      <td>NYSE</td>\n",
              "    </tr>\n",
              "    <tr>\n",
              "      <th>1</th>\n",
              "      <td>AGN</td>\n",
              "      <td>Allergan, Inc.</td>\n",
              "      <td>7.58</td>\n",
              "      <td>0.41</td>\n",
              "      <td>82.5</td>\n",
              "      <td>12.9</td>\n",
              "      <td>5.5</td>\n",
              "      <td>0.9</td>\n",
              "      <td>0.60</td>\n",
              "      <td>9.16</td>\n",
              "      <td>5.5</td>\n",
              "      <td>Moderate Buy</td>\n",
              "      <td>CANADA</td>\n",
              "      <td>NYSE</td>\n",
              "    </tr>\n",
              "    <tr>\n",
              "      <th>2</th>\n",
              "      <td>AHM</td>\n",
              "      <td>Amersham plc</td>\n",
              "      <td>6.30</td>\n",
              "      <td>0.46</td>\n",
              "      <td>20.7</td>\n",
              "      <td>14.9</td>\n",
              "      <td>7.8</td>\n",
              "      <td>0.9</td>\n",
              "      <td>0.27</td>\n",
              "      <td>7.05</td>\n",
              "      <td>11.2</td>\n",
              "      <td>Strong Buy</td>\n",
              "      <td>UK</td>\n",
              "      <td>NYSE</td>\n",
              "    </tr>\n",
              "    <tr>\n",
              "      <th>3</th>\n",
              "      <td>AZN</td>\n",
              "      <td>AstraZeneca PLC</td>\n",
              "      <td>67.63</td>\n",
              "      <td>0.52</td>\n",
              "      <td>21.5</td>\n",
              "      <td>27.4</td>\n",
              "      <td>15.4</td>\n",
              "      <td>0.9</td>\n",
              "      <td>0.00</td>\n",
              "      <td>15.00</td>\n",
              "      <td>18.0</td>\n",
              "      <td>Moderate Sell</td>\n",
              "      <td>UK</td>\n",
              "      <td>NYSE</td>\n",
              "    </tr>\n",
              "    <tr>\n",
              "      <th>4</th>\n",
              "      <td>AVE</td>\n",
              "      <td>Aventis</td>\n",
              "      <td>47.16</td>\n",
              "      <td>0.32</td>\n",
              "      <td>20.1</td>\n",
              "      <td>21.8</td>\n",
              "      <td>7.5</td>\n",
              "      <td>0.6</td>\n",
              "      <td>0.34</td>\n",
              "      <td>26.81</td>\n",
              "      <td>12.9</td>\n",
              "      <td>Moderate Buy</td>\n",
              "      <td>FRANCE</td>\n",
              "      <td>NYSE</td>\n",
              "    </tr>\n",
              "  </tbody>\n",
              "</table>\n",
              "</div>\n",
              "      <button class=\"colab-df-convert\" onclick=\"convertToInteractive('df-3bd314b7-efb9-49ac-b50f-678e65c0921a')\"\n",
              "              title=\"Convert this dataframe to an interactive table.\"\n",
              "              style=\"display:none;\">\n",
              "        \n",
              "  <svg xmlns=\"http://www.w3.org/2000/svg\" height=\"24px\"viewBox=\"0 0 24 24\"\n",
              "       width=\"24px\">\n",
              "    <path d=\"M0 0h24v24H0V0z\" fill=\"none\"/>\n",
              "    <path d=\"M18.56 5.44l.94 2.06.94-2.06 2.06-.94-2.06-.94-.94-2.06-.94 2.06-2.06.94zm-11 1L8.5 8.5l.94-2.06 2.06-.94-2.06-.94L8.5 2.5l-.94 2.06-2.06.94zm10 10l.94 2.06.94-2.06 2.06-.94-2.06-.94-.94-2.06-.94 2.06-2.06.94z\"/><path d=\"M17.41 7.96l-1.37-1.37c-.4-.4-.92-.59-1.43-.59-.52 0-1.04.2-1.43.59L10.3 9.45l-7.72 7.72c-.78.78-.78 2.05 0 2.83L4 21.41c.39.39.9.59 1.41.59.51 0 1.02-.2 1.41-.59l7.78-7.78 2.81-2.81c.8-.78.8-2.07 0-2.86zM5.41 20L4 18.59l7.72-7.72 1.47 1.35L5.41 20z\"/>\n",
              "  </svg>\n",
              "      </button>\n",
              "      \n",
              "  <style>\n",
              "    .colab-df-container {\n",
              "      display:flex;\n",
              "      flex-wrap:wrap;\n",
              "      gap: 12px;\n",
              "    }\n",
              "\n",
              "    .colab-df-convert {\n",
              "      background-color: #E8F0FE;\n",
              "      border: none;\n",
              "      border-radius: 50%;\n",
              "      cursor: pointer;\n",
              "      display: none;\n",
              "      fill: #1967D2;\n",
              "      height: 32px;\n",
              "      padding: 0 0 0 0;\n",
              "      width: 32px;\n",
              "    }\n",
              "\n",
              "    .colab-df-convert:hover {\n",
              "      background-color: #E2EBFA;\n",
              "      box-shadow: 0px 1px 2px rgba(60, 64, 67, 0.3), 0px 1px 3px 1px rgba(60, 64, 67, 0.15);\n",
              "      fill: #174EA6;\n",
              "    }\n",
              "\n",
              "    [theme=dark] .colab-df-convert {\n",
              "      background-color: #3B4455;\n",
              "      fill: #D2E3FC;\n",
              "    }\n",
              "\n",
              "    [theme=dark] .colab-df-convert:hover {\n",
              "      background-color: #434B5C;\n",
              "      box-shadow: 0px 1px 3px 1px rgba(0, 0, 0, 0.15);\n",
              "      filter: drop-shadow(0px 1px 2px rgba(0, 0, 0, 0.3));\n",
              "      fill: #FFFFFF;\n",
              "    }\n",
              "  </style>\n",
              "\n",
              "      <script>\n",
              "        const buttonEl =\n",
              "          document.querySelector('#df-3bd314b7-efb9-49ac-b50f-678e65c0921a button.colab-df-convert');\n",
              "        buttonEl.style.display =\n",
              "          google.colab.kernel.accessAllowed ? 'block' : 'none';\n",
              "\n",
              "        async function convertToInteractive(key) {\n",
              "          const element = document.querySelector('#df-3bd314b7-efb9-49ac-b50f-678e65c0921a');\n",
              "          const dataTable =\n",
              "            await google.colab.kernel.invokeFunction('convertToInteractive',\n",
              "                                                     [key], {});\n",
              "          if (!dataTable) return;\n",
              "\n",
              "          const docLinkHtml = 'Like what you see? Visit the ' +\n",
              "            '<a target=\"_blank\" href=https://colab.research.google.com/notebooks/data_table.ipynb>data table notebook</a>'\n",
              "            + ' to learn more about interactive tables.';\n",
              "          element.innerHTML = '';\n",
              "          dataTable['output_type'] = 'display_data';\n",
              "          await google.colab.output.renderOutput(dataTable, element);\n",
              "          const docLink = document.createElement('div');\n",
              "          docLink.innerHTML = docLinkHtml;\n",
              "          element.appendChild(docLink);\n",
              "        }\n",
              "      </script>\n",
              "    </div>\n",
              "  </div>\n",
              "  "
            ]
          },
          "metadata": {},
          "execution_count": 237
        }
      ]
    },
    {
      "cell_type": "markdown",
      "source": [
        "#### Data Exploration"
      ],
      "metadata": {
        "id": "Ym83LR2SkXZ1"
      }
    },
    {
      "cell_type": "code",
      "source": [
        "df['Location'].unique()               #companines are from 7 difference countries"
      ],
      "metadata": {
        "colab": {
          "base_uri": "https://localhost:8080/"
        },
        "id": "o5aCmFOvjVR-",
        "outputId": "46cdc569-d058-4f6e-b711-a2524ea79823"
      },
      "execution_count": null,
      "outputs": [
        {
          "output_type": "execute_result",
          "data": {
            "text/plain": [
              "array(['US', 'CANADA', 'UK', 'FRANCE', 'GERMANY', 'IRELAND',\n",
              "       'SWITZERLAND'], dtype=object)"
            ]
          },
          "metadata": {},
          "execution_count": 238
        }
      ]
    },
    {
      "cell_type": "code",
      "source": [
        "df['Exchange'].unique()               #companines are from 7 difference countries"
      ],
      "metadata": {
        "colab": {
          "base_uri": "https://localhost:8080/"
        },
        "id": "4HPZydfvEnAa",
        "outputId": "43e58e21-5a30-40e9-d7ad-2e0d61dcbecd"
      },
      "execution_count": null,
      "outputs": [
        {
          "output_type": "execute_result",
          "data": {
            "text/plain": [
              "array(['NYSE', 'NASDAQ', 'AMEX'], dtype=object)"
            ]
          },
          "metadata": {},
          "execution_count": 239
        }
      ]
    },
    {
      "cell_type": "markdown",
      "source": [
        "#### Preparing Data For Model"
      ],
      "metadata": {
        "id": "F5WQmFQ79PAB"
      }
    },
    {
      "cell_type": "code",
      "source": [
        "df_nums = df.drop(['Symbol', 'Name', 'Median_Recommendation', 'Location', 'Exchange'],axis=1)     #dropping none numercial values"
      ],
      "metadata": {
        "id": "vnOZtWol95cx"
      },
      "execution_count": null,
      "outputs": []
    },
    {
      "cell_type": "code",
      "source": [
        "df_strings = df[['Median_Recommendation', 'Location', 'Exchange']]\n",
        "df_strings.head()"
      ],
      "metadata": {
        "colab": {
          "base_uri": "https://localhost:8080/",
          "height": 206
        },
        "id": "1kgbMs4lC3aO",
        "outputId": "0e8cb8d8-15f0-42dd-a7a1-bf603c66e437"
      },
      "execution_count": null,
      "outputs": [
        {
          "output_type": "execute_result",
          "data": {
            "text/plain": [
              "  Median_Recommendation Location Exchange\n",
              "0          Moderate Buy       US     NYSE\n",
              "1          Moderate Buy   CANADA     NYSE\n",
              "2            Strong Buy       UK     NYSE\n",
              "3         Moderate Sell       UK     NYSE\n",
              "4          Moderate Buy   FRANCE     NYSE"
            ],
            "text/html": [
              "\n",
              "  <div id=\"df-3f764032-8c6e-48d1-94ec-59ebaa6dbe41\">\n",
              "    <div class=\"colab-df-container\">\n",
              "      <div>\n",
              "<style scoped>\n",
              "    .dataframe tbody tr th:only-of-type {\n",
              "        vertical-align: middle;\n",
              "    }\n",
              "\n",
              "    .dataframe tbody tr th {\n",
              "        vertical-align: top;\n",
              "    }\n",
              "\n",
              "    .dataframe thead th {\n",
              "        text-align: right;\n",
              "    }\n",
              "</style>\n",
              "<table border=\"1\" class=\"dataframe\">\n",
              "  <thead>\n",
              "    <tr style=\"text-align: right;\">\n",
              "      <th></th>\n",
              "      <th>Median_Recommendation</th>\n",
              "      <th>Location</th>\n",
              "      <th>Exchange</th>\n",
              "    </tr>\n",
              "  </thead>\n",
              "  <tbody>\n",
              "    <tr>\n",
              "      <th>0</th>\n",
              "      <td>Moderate Buy</td>\n",
              "      <td>US</td>\n",
              "      <td>NYSE</td>\n",
              "    </tr>\n",
              "    <tr>\n",
              "      <th>1</th>\n",
              "      <td>Moderate Buy</td>\n",
              "      <td>CANADA</td>\n",
              "      <td>NYSE</td>\n",
              "    </tr>\n",
              "    <tr>\n",
              "      <th>2</th>\n",
              "      <td>Strong Buy</td>\n",
              "      <td>UK</td>\n",
              "      <td>NYSE</td>\n",
              "    </tr>\n",
              "    <tr>\n",
              "      <th>3</th>\n",
              "      <td>Moderate Sell</td>\n",
              "      <td>UK</td>\n",
              "      <td>NYSE</td>\n",
              "    </tr>\n",
              "    <tr>\n",
              "      <th>4</th>\n",
              "      <td>Moderate Buy</td>\n",
              "      <td>FRANCE</td>\n",
              "      <td>NYSE</td>\n",
              "    </tr>\n",
              "  </tbody>\n",
              "</table>\n",
              "</div>\n",
              "      <button class=\"colab-df-convert\" onclick=\"convertToInteractive('df-3f764032-8c6e-48d1-94ec-59ebaa6dbe41')\"\n",
              "              title=\"Convert this dataframe to an interactive table.\"\n",
              "              style=\"display:none;\">\n",
              "        \n",
              "  <svg xmlns=\"http://www.w3.org/2000/svg\" height=\"24px\"viewBox=\"0 0 24 24\"\n",
              "       width=\"24px\">\n",
              "    <path d=\"M0 0h24v24H0V0z\" fill=\"none\"/>\n",
              "    <path d=\"M18.56 5.44l.94 2.06.94-2.06 2.06-.94-2.06-.94-.94-2.06-.94 2.06-2.06.94zm-11 1L8.5 8.5l.94-2.06 2.06-.94-2.06-.94L8.5 2.5l-.94 2.06-2.06.94zm10 10l.94 2.06.94-2.06 2.06-.94-2.06-.94-.94-2.06-.94 2.06-2.06.94z\"/><path d=\"M17.41 7.96l-1.37-1.37c-.4-.4-.92-.59-1.43-.59-.52 0-1.04.2-1.43.59L10.3 9.45l-7.72 7.72c-.78.78-.78 2.05 0 2.83L4 21.41c.39.39.9.59 1.41.59.51 0 1.02-.2 1.41-.59l7.78-7.78 2.81-2.81c.8-.78.8-2.07 0-2.86zM5.41 20L4 18.59l7.72-7.72 1.47 1.35L5.41 20z\"/>\n",
              "  </svg>\n",
              "      </button>\n",
              "      \n",
              "  <style>\n",
              "    .colab-df-container {\n",
              "      display:flex;\n",
              "      flex-wrap:wrap;\n",
              "      gap: 12px;\n",
              "    }\n",
              "\n",
              "    .colab-df-convert {\n",
              "      background-color: #E8F0FE;\n",
              "      border: none;\n",
              "      border-radius: 50%;\n",
              "      cursor: pointer;\n",
              "      display: none;\n",
              "      fill: #1967D2;\n",
              "      height: 32px;\n",
              "      padding: 0 0 0 0;\n",
              "      width: 32px;\n",
              "    }\n",
              "\n",
              "    .colab-df-convert:hover {\n",
              "      background-color: #E2EBFA;\n",
              "      box-shadow: 0px 1px 2px rgba(60, 64, 67, 0.3), 0px 1px 3px 1px rgba(60, 64, 67, 0.15);\n",
              "      fill: #174EA6;\n",
              "    }\n",
              "\n",
              "    [theme=dark] .colab-df-convert {\n",
              "      background-color: #3B4455;\n",
              "      fill: #D2E3FC;\n",
              "    }\n",
              "\n",
              "    [theme=dark] .colab-df-convert:hover {\n",
              "      background-color: #434B5C;\n",
              "      box-shadow: 0px 1px 3px 1px rgba(0, 0, 0, 0.15);\n",
              "      filter: drop-shadow(0px 1px 2px rgba(0, 0, 0, 0.3));\n",
              "      fill: #FFFFFF;\n",
              "    }\n",
              "  </style>\n",
              "\n",
              "      <script>\n",
              "        const buttonEl =\n",
              "          document.querySelector('#df-3f764032-8c6e-48d1-94ec-59ebaa6dbe41 button.colab-df-convert');\n",
              "        buttonEl.style.display =\n",
              "          google.colab.kernel.accessAllowed ? 'block' : 'none';\n",
              "\n",
              "        async function convertToInteractive(key) {\n",
              "          const element = document.querySelector('#df-3f764032-8c6e-48d1-94ec-59ebaa6dbe41');\n",
              "          const dataTable =\n",
              "            await google.colab.kernel.invokeFunction('convertToInteractive',\n",
              "                                                     [key], {});\n",
              "          if (!dataTable) return;\n",
              "\n",
              "          const docLinkHtml = 'Like what you see? Visit the ' +\n",
              "            '<a target=\"_blank\" href=https://colab.research.google.com/notebooks/data_table.ipynb>data table notebook</a>'\n",
              "            + ' to learn more about interactive tables.';\n",
              "          element.innerHTML = '';\n",
              "          dataTable['output_type'] = 'display_data';\n",
              "          await google.colab.output.renderOutput(dataTable, element);\n",
              "          const docLink = document.createElement('div');\n",
              "          docLink.innerHTML = docLinkHtml;\n",
              "          element.appendChild(docLink);\n",
              "        }\n",
              "      </script>\n",
              "    </div>\n",
              "  </div>\n",
              "  "
            ]
          },
          "metadata": {},
          "execution_count": 241
        }
      ]
    },
    {
      "cell_type": "code",
      "source": [
        "# scaling data\n",
        "\n",
        "scaler = MinMaxScaler()\n",
        "\n",
        "for col in df_nums.columns:\n",
        "\n",
        "  scaler.fit(df_nums[[col]])\n",
        "  df_nums[col] = scaler.transform(df_nums[[col]])\n",
        "\n",
        "df_nums.head()"
      ],
      "metadata": {
        "colab": {
          "base_uri": "https://localhost:8080/",
          "height": 206
        },
        "id": "L1H6cC1N-Qyz",
        "outputId": "10087270-41e5-4223-a229-ea6e4638c8e1"
      },
      "execution_count": null,
      "outputs": [
        {
          "output_type": "execute_result",
          "data": {
            "text/plain": [
              "   Market_Cap      Beta  PE_Ratio       ROE       ROA  Asset_Turnover  \\\n",
              "0    0.341756  0.150538  0.267427  0.381356  0.550265           0.500   \n",
              "1    0.036019  0.247312  1.000000  0.152542  0.216931           0.750   \n",
              "2    0.029589  0.301075  0.216730  0.186441  0.338624           0.750   \n",
              "3    0.337687  0.365591  0.226869  0.398305  0.740741           0.750   \n",
              "4    0.234854  0.150538  0.209125  0.303390  0.322751           0.375   \n",
              "\n",
              "   Leverage  Rev_Growth  Net_Profit_Margin  \n",
              "0  0.119658    0.286517           0.589520  \n",
              "1  0.170940    0.329856           0.126638  \n",
              "2  0.076923    0.273408           0.375546  \n",
              "3  0.000000    0.486089           0.672489  \n",
              "4  0.096866    0.802033           0.449782  "
            ],
            "text/html": [
              "\n",
              "  <div id=\"df-9c369dbc-4b6a-4ca7-91f9-8e0e29bd88ac\">\n",
              "    <div class=\"colab-df-container\">\n",
              "      <div>\n",
              "<style scoped>\n",
              "    .dataframe tbody tr th:only-of-type {\n",
              "        vertical-align: middle;\n",
              "    }\n",
              "\n",
              "    .dataframe tbody tr th {\n",
              "        vertical-align: top;\n",
              "    }\n",
              "\n",
              "    .dataframe thead th {\n",
              "        text-align: right;\n",
              "    }\n",
              "</style>\n",
              "<table border=\"1\" class=\"dataframe\">\n",
              "  <thead>\n",
              "    <tr style=\"text-align: right;\">\n",
              "      <th></th>\n",
              "      <th>Market_Cap</th>\n",
              "      <th>Beta</th>\n",
              "      <th>PE_Ratio</th>\n",
              "      <th>ROE</th>\n",
              "      <th>ROA</th>\n",
              "      <th>Asset_Turnover</th>\n",
              "      <th>Leverage</th>\n",
              "      <th>Rev_Growth</th>\n",
              "      <th>Net_Profit_Margin</th>\n",
              "    </tr>\n",
              "  </thead>\n",
              "  <tbody>\n",
              "    <tr>\n",
              "      <th>0</th>\n",
              "      <td>0.341756</td>\n",
              "      <td>0.150538</td>\n",
              "      <td>0.267427</td>\n",
              "      <td>0.381356</td>\n",
              "      <td>0.550265</td>\n",
              "      <td>0.500</td>\n",
              "      <td>0.119658</td>\n",
              "      <td>0.286517</td>\n",
              "      <td>0.589520</td>\n",
              "    </tr>\n",
              "    <tr>\n",
              "      <th>1</th>\n",
              "      <td>0.036019</td>\n",
              "      <td>0.247312</td>\n",
              "      <td>1.000000</td>\n",
              "      <td>0.152542</td>\n",
              "      <td>0.216931</td>\n",
              "      <td>0.750</td>\n",
              "      <td>0.170940</td>\n",
              "      <td>0.329856</td>\n",
              "      <td>0.126638</td>\n",
              "    </tr>\n",
              "    <tr>\n",
              "      <th>2</th>\n",
              "      <td>0.029589</td>\n",
              "      <td>0.301075</td>\n",
              "      <td>0.216730</td>\n",
              "      <td>0.186441</td>\n",
              "      <td>0.338624</td>\n",
              "      <td>0.750</td>\n",
              "      <td>0.076923</td>\n",
              "      <td>0.273408</td>\n",
              "      <td>0.375546</td>\n",
              "    </tr>\n",
              "    <tr>\n",
              "      <th>3</th>\n",
              "      <td>0.337687</td>\n",
              "      <td>0.365591</td>\n",
              "      <td>0.226869</td>\n",
              "      <td>0.398305</td>\n",
              "      <td>0.740741</td>\n",
              "      <td>0.750</td>\n",
              "      <td>0.000000</td>\n",
              "      <td>0.486089</td>\n",
              "      <td>0.672489</td>\n",
              "    </tr>\n",
              "    <tr>\n",
              "      <th>4</th>\n",
              "      <td>0.234854</td>\n",
              "      <td>0.150538</td>\n",
              "      <td>0.209125</td>\n",
              "      <td>0.303390</td>\n",
              "      <td>0.322751</td>\n",
              "      <td>0.375</td>\n",
              "      <td>0.096866</td>\n",
              "      <td>0.802033</td>\n",
              "      <td>0.449782</td>\n",
              "    </tr>\n",
              "  </tbody>\n",
              "</table>\n",
              "</div>\n",
              "      <button class=\"colab-df-convert\" onclick=\"convertToInteractive('df-9c369dbc-4b6a-4ca7-91f9-8e0e29bd88ac')\"\n",
              "              title=\"Convert this dataframe to an interactive table.\"\n",
              "              style=\"display:none;\">\n",
              "        \n",
              "  <svg xmlns=\"http://www.w3.org/2000/svg\" height=\"24px\"viewBox=\"0 0 24 24\"\n",
              "       width=\"24px\">\n",
              "    <path d=\"M0 0h24v24H0V0z\" fill=\"none\"/>\n",
              "    <path d=\"M18.56 5.44l.94 2.06.94-2.06 2.06-.94-2.06-.94-.94-2.06-.94 2.06-2.06.94zm-11 1L8.5 8.5l.94-2.06 2.06-.94-2.06-.94L8.5 2.5l-.94 2.06-2.06.94zm10 10l.94 2.06.94-2.06 2.06-.94-2.06-.94-.94-2.06-.94 2.06-2.06.94z\"/><path d=\"M17.41 7.96l-1.37-1.37c-.4-.4-.92-.59-1.43-.59-.52 0-1.04.2-1.43.59L10.3 9.45l-7.72 7.72c-.78.78-.78 2.05 0 2.83L4 21.41c.39.39.9.59 1.41.59.51 0 1.02-.2 1.41-.59l7.78-7.78 2.81-2.81c.8-.78.8-2.07 0-2.86zM5.41 20L4 18.59l7.72-7.72 1.47 1.35L5.41 20z\"/>\n",
              "  </svg>\n",
              "      </button>\n",
              "      \n",
              "  <style>\n",
              "    .colab-df-container {\n",
              "      display:flex;\n",
              "      flex-wrap:wrap;\n",
              "      gap: 12px;\n",
              "    }\n",
              "\n",
              "    .colab-df-convert {\n",
              "      background-color: #E8F0FE;\n",
              "      border: none;\n",
              "      border-radius: 50%;\n",
              "      cursor: pointer;\n",
              "      display: none;\n",
              "      fill: #1967D2;\n",
              "      height: 32px;\n",
              "      padding: 0 0 0 0;\n",
              "      width: 32px;\n",
              "    }\n",
              "\n",
              "    .colab-df-convert:hover {\n",
              "      background-color: #E2EBFA;\n",
              "      box-shadow: 0px 1px 2px rgba(60, 64, 67, 0.3), 0px 1px 3px 1px rgba(60, 64, 67, 0.15);\n",
              "      fill: #174EA6;\n",
              "    }\n",
              "\n",
              "    [theme=dark] .colab-df-convert {\n",
              "      background-color: #3B4455;\n",
              "      fill: #D2E3FC;\n",
              "    }\n",
              "\n",
              "    [theme=dark] .colab-df-convert:hover {\n",
              "      background-color: #434B5C;\n",
              "      box-shadow: 0px 1px 3px 1px rgba(0, 0, 0, 0.15);\n",
              "      filter: drop-shadow(0px 1px 2px rgba(0, 0, 0, 0.3));\n",
              "      fill: #FFFFFF;\n",
              "    }\n",
              "  </style>\n",
              "\n",
              "      <script>\n",
              "        const buttonEl =\n",
              "          document.querySelector('#df-9c369dbc-4b6a-4ca7-91f9-8e0e29bd88ac button.colab-df-convert');\n",
              "        buttonEl.style.display =\n",
              "          google.colab.kernel.accessAllowed ? 'block' : 'none';\n",
              "\n",
              "        async function convertToInteractive(key) {\n",
              "          const element = document.querySelector('#df-9c369dbc-4b6a-4ca7-91f9-8e0e29bd88ac');\n",
              "          const dataTable =\n",
              "            await google.colab.kernel.invokeFunction('convertToInteractive',\n",
              "                                                     [key], {});\n",
              "          if (!dataTable) return;\n",
              "\n",
              "          const docLinkHtml = 'Like what you see? Visit the ' +\n",
              "            '<a target=\"_blank\" href=https://colab.research.google.com/notebooks/data_table.ipynb>data table notebook</a>'\n",
              "            + ' to learn more about interactive tables.';\n",
              "          element.innerHTML = '';\n",
              "          dataTable['output_type'] = 'display_data';\n",
              "          await google.colab.output.renderOutput(dataTable, element);\n",
              "          const docLink = document.createElement('div');\n",
              "          docLink.innerHTML = docLinkHtml;\n",
              "          element.appendChild(docLink);\n",
              "        }\n",
              "      </script>\n",
              "    </div>\n",
              "  </div>\n",
              "  "
            ]
          },
          "metadata": {},
          "execution_count": 242
        }
      ]
    },
    {
      "cell_type": "code",
      "source": [
        "#sns.pairplot(df_nums[['Market_Cap', 'Beta', 'PE_Ratio', 'ROE', 'ROA', 'Asset_Turnover', 'Leverage', 'Rev_Growth', 'Net_Profit_Margin']])"
      ],
      "metadata": {
        "id": "dNxXPmy69Wlm"
      },
      "execution_count": null,
      "outputs": []
    },
    {
      "cell_type": "markdown",
      "source": [
        "##### Task A: Use only the numerical variables (1 to 9) to cluster the 21 firms. Justify the various choices made in conducting the cluster analysis, such as weights for different variables, the specific clustering algorithm(s) used, the number of clusters formed, and so on."
      ],
      "metadata": {
        "id": "6mCRbnBNVIO1"
      }
    },
    {
      "cell_type": "code",
      "source": [
        "Sum_of_squared_distances = []\n",
        "K = range(1,11)\n",
        "for k in K:\n",
        "    km = KMeans(n_clusters=k, algorithm = 'auto')\n",
        "    km = km.fit(df_nums)\n",
        "    Sum_of_squared_distances.append(km.inertia_)\n",
        "\n",
        "plt.figure(figsize=(8, 8))\n",
        "plt.plot(K, Sum_of_squared_distances, 'bx-')\n",
        "plt.xlabel('k')\n",
        "plt.ylabel('Sum_of_squared_distances')\n",
        "plt.title('Elbow Method For Optimal k')\n",
        "plt.show()\n",
        "\n",
        "#Using the auto algorithm we get a sum of squared distance of about 5 at the elbow, k = 4"
      ],
      "metadata": {
        "id": "RcGObkcbWZW2",
        "colab": {
          "base_uri": "https://localhost:8080/",
          "height": 513
        },
        "outputId": "90dd3090-ccd7-4310-f67c-80cf11ec1adf"
      },
      "execution_count": null,
      "outputs": [
        {
          "output_type": "display_data",
          "data": {
            "text/plain": [
              "<Figure size 576x576 with 1 Axes>"
            ],
            "image/png": "[encoded data removed]"
          },
          "metadata": {
            "needs_background": "light"
          }
        }
      ]
    },
    {
      "cell_type": "code",
      "source": [
        "Sum_of_squared_distances = []\n",
        "K = range(1,11)\n",
        "for k in K:\n",
        "    km = KMeans(n_clusters=k, algorithm = 'full')\n",
        "    km = km.fit(df_nums)\n",
        "    Sum_of_squared_distances.append(km.inertia_)\n",
        "\n",
        "plt.figure(figsize=(8, 8))\n",
        "plt.plot(K, Sum_of_squared_distances, 'bx-')\n",
        "plt.xlabel('k')\n",
        "plt.ylabel('Sum_of_squared_distances')\n",
        "plt.title('Elbow Method For Optimal k')\n",
        "plt.show()\n",
        "\n",
        "#Using the full algorithm we get a sum of squared distance of about 5 at the elbow, k = 4"
      ],
      "metadata": {
        "colab": {
          "base_uri": "https://localhost:8080/",
          "height": 513
        },
        "id": "7FZRU8Wbieti",
        "outputId": "0234f115-9021-489c-9530-51ea57cbe880"
      },
      "execution_count": null,
      "outputs": [
        {
          "output_type": "display_data",
          "data": {
            "text/plain": [
              "<Figure size 576x576 with 1 Axes>"
            ],
            "image/png": "[encoded data removed]"
          },
          "metadata": {
            "needs_background": "light"
          }
        }
      ]
    },
    {
      "cell_type": "code",
      "source": [
        "Sum_of_squared_distances = []\n",
        "K = range(1,11)\n",
        "for k in K:\n",
        "    km = KMeans(n_clusters=k, algorithm = 'elkan')\n",
        "    km = km.fit(df_nums)\n",
        "    Sum_of_squared_distances.append(km.inertia_)\n",
        "\n",
        "plt.figure(figsize=(8, 8))\n",
        "plt.plot(K, Sum_of_squared_distances, 'bx-')\n",
        "plt.xlabel('k')\n",
        "plt.ylabel('Sum_of_squared_distances')\n",
        "plt.title('Elbow Method For Optimal k')\n",
        "plt.show()\n",
        "\n",
        "#Using the elkan algorithm we get a sum of squared distance of about 5 at the elbow, k = 4"
      ],
      "metadata": {
        "colab": {
          "base_uri": "https://localhost:8080/",
          "height": 548
        },
        "id": "yHOcFZ-cieYu",
        "outputId": "914ef80c-9d85-4fe3-ce8e-3c2e90f94808"
      },
      "execution_count": null,
      "outputs": [
        {
          "output_type": "stream",
          "name": "stderr",
          "text": [
            "/usr/local/lib/python3.7/dist-packages/sklearn/cluster/_kmeans.py:968: RuntimeWarning: algorithm='elkan' doesn't make sense for a single cluster. Using 'full' instead.\n",
            "  RuntimeWarning,\n"
          ]
        },
        {
          "output_type": "display_data",
          "data": {
            "text/plain": [
              "<Figure size 576x576 with 1 Axes>"
            ],
            "image/png": "[encoded data removed]"
          },
          "metadata": {
            "needs_background": "light"
          }
        }
      ]
    },
    {
      "cell_type": "markdown",
      "source": [
        "##### After trying the 3 different algorithms for Kmeans, I chose the auto algorithm. Each of the 3 algorithms resulted in similar charts.1 The numerical values have been normalized so each play an equal role in the model. The number of clusters to used I determine by the \"elbow method\", this is when we visually look at the charts above and look for the bend in the sum of squared distance. We know that is the right number of categories because if we chose any ks to the left we wont have enough categories (underfit), if we chose any ks to the right of the elbow we will have too many categories (overfit)."
      ],
      "metadata": {
        "id": "1D5UDwjEjKXu"
      }
    },
    {
      "cell_type": "markdown",
      "source": [
        "##### Task B: Interpret the clusters with respect to the numerical variables used in forming the clusters."
      ],
      "metadata": {
        "id": "4KlLlbv69z26"
      }
    },
    {
      "cell_type": "code",
      "source": [
        "#Adding the predictions to a column for visualization\n",
        "\n",
        "km = KMeans(n_clusters=4, algorithm = 'auto')\n",
        "km = km.fit(df_nums)\n",
        "y_predict = km.fit_predict(df_nums)\n",
        "df_nums['Category'] = y_predict\n",
        "df_nums.head()"
      ],
      "metadata": {
        "colab": {
          "base_uri": "https://localhost:8080/",
          "height": 206
        },
        "id": "LJCVteUhPDlJ",
        "outputId": "ba64ea7f-e0ff-4171-de52-2dcd38313357"
      },
      "execution_count": null,
      "outputs": [
        {
          "output_type": "execute_result",
          "data": {
            "text/plain": [
              "   Market_Cap      Beta  PE_Ratio       ROE       ROA  Asset_Turnover  \\\n",
              "0    0.341756  0.150538  0.267427  0.381356  0.550265           0.500   \n",
              "1    0.036019  0.247312  1.000000  0.152542  0.216931           0.750   \n",
              "2    0.029589  0.301075  0.216730  0.186441  0.338624           0.750   \n",
              "3    0.337687  0.365591  0.226869  0.398305  0.740741           0.750   \n",
              "4    0.234854  0.150538  0.209125  0.303390  0.322751           0.375   \n",
              "\n",
              "   Leverage  Rev_Growth  Net_Profit_Margin  Category  \n",
              "0  0.119658    0.286517           0.589520         2  \n",
              "1  0.170940    0.329856           0.126638         0  \n",
              "2  0.076923    0.273408           0.375546         0  \n",
              "3  0.000000    0.486089           0.672489         2  \n",
              "4  0.096866    0.802033           0.449782         1  "
            ],
            "text/html": [
              "\n",
              "  <div id=\"df-f01d1c38-2a15-41b6-99be-4d8ddf9ba5c1\">\n",
              "    <div class=\"colab-df-container\">\n",
              "      <div>\n",
              "<style scoped>\n",
              "    .dataframe tbody tr th:only-of-type {\n",
              "        vertical-align: middle;\n",
              "    }\n",
              "\n",
              "    .dataframe tbody tr th {\n",
              "        vertical-align: top;\n",
              "    }\n",
              "\n",
              "    .dataframe thead th {\n",
              "        text-align: right;\n",
              "    }\n",
              "</style>\n",
              "<table border=\"1\" class=\"dataframe\">\n",
              "  <thead>\n",
              "    <tr style=\"text-align: right;\">\n",
              "      <th></th>\n",
              "      <th>Market_Cap</th>\n",
              "      <th>Beta</th>\n",
              "      <th>PE_Ratio</th>\n",
              "      <th>ROE</th>\n",
              "      <th>ROA</th>\n",
              "      <th>Asset_Turnover</th>\n",
              "      <th>Leverage</th>\n",
              "      <th>Rev_Growth</th>\n",
              "      <th>Net_Profit_Margin</th>\n",
              "      <th>Category</th>\n",
              "    </tr>\n",
              "  </thead>\n",
              "  <tbody>\n",
              "    <tr>\n",
              "      <th>0</th>\n",
              "      <td>0.341756</td>\n",
              "      <td>0.150538</td>\n",
              "      <td>0.267427</td>\n",
              "      <td>0.381356</td>\n",
              "      <td>0.550265</td>\n",
              "      <td>0.500</td>\n",
              "      <td>0.119658</td>\n",
              "      <td>0.286517</td>\n",
              "      <td>0.589520</td>\n",
              "      <td>2</td>\n",
              "    </tr>\n",
              "    <tr>\n",
              "      <th>1</th>\n",
              "      <td>0.036019</td>\n",
              "      <td>0.247312</td>\n",
              "      <td>1.000000</td>\n",
              "      <td>0.152542</td>\n",
              "      <td>0.216931</td>\n",
              "      <td>0.750</td>\n",
              "      <td>0.170940</td>\n",
              "      <td>0.329856</td>\n",
              "      <td>0.126638</td>\n",
              "      <td>0</td>\n",
              "    </tr>\n",
              "    <tr>\n",
              "      <th>2</th>\n",
              "      <td>0.029589</td>\n",
              "      <td>0.301075</td>\n",
              "      <td>0.216730</td>\n",
              "      <td>0.186441</td>\n",
              "      <td>0.338624</td>\n",
              "      <td>0.750</td>\n",
              "      <td>0.076923</td>\n",
              "      <td>0.273408</td>\n",
              "      <td>0.375546</td>\n",
              "      <td>0</td>\n",
              "    </tr>\n",
              "    <tr>\n",
              "      <th>3</th>\n",
              "      <td>0.337687</td>\n",
              "      <td>0.365591</td>\n",
              "      <td>0.226869</td>\n",
              "      <td>0.398305</td>\n",
              "      <td>0.740741</td>\n",
              "      <td>0.750</td>\n",
              "      <td>0.000000</td>\n",
              "      <td>0.486089</td>\n",
              "      <td>0.672489</td>\n",
              "      <td>2</td>\n",
              "    </tr>\n",
              "    <tr>\n",
              "      <th>4</th>\n",
              "      <td>0.234854</td>\n",
              "      <td>0.150538</td>\n",
              "      <td>0.209125</td>\n",
              "      <td>0.303390</td>\n",
              "      <td>0.322751</td>\n",
              "      <td>0.375</td>\n",
              "      <td>0.096866</td>\n",
              "      <td>0.802033</td>\n",
              "      <td>0.449782</td>\n",
              "      <td>1</td>\n",
              "    </tr>\n",
              "  </tbody>\n",
              "</table>\n",
              "</div>\n",
              "      <button class=\"colab-df-convert\" onclick=\"convertToInteractive('df-f01d1c38-2a15-41b6-99be-4d8ddf9ba5c1')\"\n",
              "              title=\"Convert this dataframe to an interactive table.\"\n",
              "              style=\"display:none;\">\n",
              "        \n",
              "  <svg xmlns=\"http://www.w3.org/2000/svg\" height=\"24px\"viewBox=\"0 0 24 24\"\n",
              "       width=\"24px\">\n",
              "    <path d=\"M0 0h24v24H0V0z\" fill=\"none\"/>\n",
              "    <path d=\"M18.56 5.44l.94 2.06.94-2.06 2.06-.94-2.06-.94-.94-2.06-.94 2.06-2.06.94zm-11 1L8.5 8.5l.94-2.06 2.06-.94-2.06-.94L8.5 2.5l-.94 2.06-2.06.94zm10 10l.94 2.06.94-2.06 2.06-.94-2.06-.94-.94-2.06-.94 2.06-2.06.94z\"/><path d=\"M17.41 7.96l-1.37-1.37c-.4-.4-.92-.59-1.43-.59-.52 0-1.04.2-1.43.59L10.3 9.45l-7.72 7.72c-.78.78-.78 2.05 0 2.83L4 21.41c.39.39.9.59 1.41.59.51 0 1.02-.2 1.41-.59l7.78-7.78 2.81-2.81c.8-.78.8-2.07 0-2.86zM5.41 20L4 18.59l7.72-7.72 1.47 1.35L5.41 20z\"/>\n",
              "  </svg>\n",
              "      </button>\n",
              "      \n",
              "  <style>\n",
              "    .colab-df-container {\n",
              "      display:flex;\n",
              "      flex-wrap:wrap;\n",
              "      gap: 12px;\n",
              "    }\n",
              "\n",
              "    .colab-df-convert {\n",
              "      background-color: #E8F0FE;\n",
              "      border: none;\n",
              "      border-radius: 50%;\n",
              "      cursor: pointer;\n",
              "      display: none;\n",
              "      fill: #1967D2;\n",
              "      height: 32px;\n",
              "      padding: 0 0 0 0;\n",
              "      width: 32px;\n",
              "    }\n",
              "\n",
              "    .colab-df-convert:hover {\n",
              "      background-color: #E2EBFA;\n",
              "      box-shadow: 0px 1px 2px rgba(60, 64, 67, 0.3), 0px 1px 3px 1px rgba(60, 64, 67, 0.15);\n",
              "      fill: #174EA6;\n",
              "    }\n",
              "\n",
              "    [theme=dark] .colab-df-convert {\n",
              "      background-color: #3B4455;\n",
              "      fill: #D2E3FC;\n",
              "    }\n",
              "\n",
              "    [theme=dark] .colab-df-convert:hover {\n",
              "      background-color: #434B5C;\n",
              "      box-shadow: 0px 1px 3px 1px rgba(0, 0, 0, 0.15);\n",
              "      filter: drop-shadow(0px 1px 2px rgba(0, 0, 0, 0.3));\n",
              "      fill: #FFFFFF;\n",
              "    }\n",
              "  </style>\n",
              "\n",
              "      <script>\n",
              "        const buttonEl =\n",
              "          document.querySelector('#df-f01d1c38-2a15-41b6-99be-4d8ddf9ba5c1 button.colab-df-convert');\n",
              "        buttonEl.style.display =\n",
              "          google.colab.kernel.accessAllowed ? 'block' : 'none';\n",
              "\n",
              "        async function convertToInteractive(key) {\n",
              "          const element = document.querySelector('#df-f01d1c38-2a15-41b6-99be-4d8ddf9ba5c1');\n",
              "          const dataTable =\n",
              "            await google.colab.kernel.invokeFunction('convertToInteractive',\n",
              "                                                     [key], {});\n",
              "          if (!dataTable) return;\n",
              "\n",
              "          const docLinkHtml = 'Like what you see? Visit the ' +\n",
              "            '<a target=\"_blank\" href=https://colab.research.google.com/notebooks/data_table.ipynb>data table notebook</a>'\n",
              "            + ' to learn more about interactive tables.';\n",
              "          element.innerHTML = '';\n",
              "          dataTable['output_type'] = 'display_data';\n",
              "          await google.colab.output.renderOutput(dataTable, element);\n",
              "          const docLink = document.createElement('div');\n",
              "          docLink.innerHTML = docLinkHtml;\n",
              "          element.appendChild(docLink);\n",
              "        }\n",
              "      </script>\n",
              "    </div>\n",
              "  </div>\n",
              "  "
            ]
          },
          "metadata": {},
          "execution_count": 264
        }
      ]
    },
    {
      "cell_type": "code",
      "source": [
        "#Visualizing the grouping. User can change the X / Y Axis to see different relationships.\n",
        "\n",
        "columns_list = {\n",
        "    1: 'Market_Cap',\n",
        "    2: 'Beta',\n",
        "    3: 'PE_Ratio',\n",
        "    4: 'ROE',\n",
        "    5: 'ROA',\n",
        "    6: 'Asset_Turnover',\n",
        "    7: 'Leverage',\n",
        "    8: 'Rev_Growth',\n",
        "    9: 'Net_Profit_Margin'}\n",
        "\n",
        "\n",
        "X_axis = columns_list.get(1)\n",
        "Y_axis = columns_list.get(9)\n",
        "\n",
        "df1 = df_nums[df_nums.Category==0]\n",
        "df2 = df_nums[df_nums.Category==1]\n",
        "df3 = df_nums[df_nums.Category==2]\n",
        "df4 = df_nums[df_nums.Category==3]\n",
        "\n",
        "\n",
        "\n",
        "plt.scatter(df1[X_axis],df1[Y_axis],color='blue')\n",
        "plt.scatter(df2[X_axis],df2[Y_axis],color='green')\n",
        "plt.scatter(df3[X_axis],df3[Y_axis],color='yellow')\n",
        "plt.scatter(df4[X_axis],df4[Y_axis],color='red')"
      ],
      "metadata": {
        "colab": {
          "base_uri": "https://localhost:8080/",
          "height": 282
        },
        "id": "XV7tpWliP6GH",
        "outputId": "96d674bf-dc9d-4c2a-b402-d48b000a0c24"
      },
      "execution_count": null,
      "outputs": [
        {
          "output_type": "execute_result",
          "data": {
            "text/plain": [
              "<matplotlib.collections.PathCollection at 0x7faeddb7c5d0>"
            ]
          },
          "metadata": {},
          "execution_count": 248
        },
        {
          "output_type": "display_data",
          "data": {
            "text/plain": [
              "<Figure size 432x288 with 1 Axes>"
            ],
            "image/png": "[encoded data removed]"
          },
          "metadata": {
            "needs_background": "light"
          }
        }
      ]
    },
    {
      "cell_type": "markdown",
      "source": [
        "##### Market_Cap / Net_Profit_Margin : Higher Net_Profit_Margins separates the reds and greens. The market cap is separate by low (blue) / medium (red) / high (yellow). "
      ],
      "metadata": {
        "id": "TKDAvKXP93k-"
      }
    },
    {
      "cell_type": "code",
      "source": [
        "X_axis = columns_list.get(3)\n",
        "Y_axis = columns_list.get(5)\n",
        "\n",
        "df1 = df_nums[df_nums.Category==0]\n",
        "df2 = df_nums[df_nums.Category==1]\n",
        "df3 = df_nums[df_nums.Category==2]\n",
        "df4 = df_nums[df_nums.Category==3]\n",
        "\n",
        "\n",
        "\n",
        "plt.scatter(df1[X_axis],df1[Y_axis],color='blue')\n",
        "plt.scatter(df2[X_axis],df2[Y_axis],color='green')\n",
        "plt.scatter(df3[X_axis],df3[Y_axis],color='yellow')\n",
        "plt.scatter(df4[X_axis],df4[Y_axis],color='red')"
      ],
      "metadata": {
        "colab": {
          "base_uri": "https://localhost:8080/",
          "height": 282
        },
        "id": "VcjM9Cq_9r_J",
        "outputId": "c3aaeb9e-ec8e-4bda-c2f4-2ead9f9fa5ea"
      },
      "execution_count": null,
      "outputs": [
        {
          "output_type": "execute_result",
          "data": {
            "text/plain": [
              "<matplotlib.collections.PathCollection at 0x7faeddaefcd0>"
            ]
          },
          "metadata": {},
          "execution_count": 249
        },
        {
          "output_type": "display_data",
          "data": {
            "text/plain": [
              "<Figure size 432x288 with 1 Axes>"
            ],
            "image/png": "[encoded data removed]"
          },
          "metadata": {
            "needs_background": "light"
          }
        }
      ]
    },
    {
      "cell_type": "markdown",
      "source": [
        "##### PE_Ratio / ROA: On the Y-axis (ROA) we see a clear separation between the yellow, red and blue. Then on the X-axis we see a clear separation between the red and green."
      ],
      "metadata": {
        "id": "oCVbm2XA-EUb"
      }
    },
    {
      "cell_type": "code",
      "source": [
        "X_axis = columns_list.get(4)\n",
        "Y_axis = columns_list.get(8)\n",
        "\n",
        "df1 = df_nums[df_nums.Category==0]\n",
        "df2 = df_nums[df_nums.Category==1]\n",
        "df3 = df_nums[df_nums.Category==2]\n",
        "df4 = df_nums[df_nums.Category==3]\n",
        "\n",
        "\n",
        "\n",
        "plt.scatter(df1[X_axis],df1[Y_axis],color='blue')\n",
        "plt.scatter(df2[X_axis],df2[Y_axis],color='green')\n",
        "plt.scatter(df3[X_axis],df3[Y_axis],color='yellow')\n",
        "plt.scatter(df4[X_axis],df4[Y_axis],color='red')"
      ],
      "metadata": {
        "colab": {
          "base_uri": "https://localhost:8080/",
          "height": 282
        },
        "id": "4KHdECV0-x6G",
        "outputId": "a8c8a8c0-ed4b-48ae-b738-ecd99fe412d4"
      },
      "execution_count": null,
      "outputs": [
        {
          "output_type": "execute_result",
          "data": {
            "text/plain": [
              "<matplotlib.collections.PathCollection at 0x7faeddae2b50>"
            ]
          },
          "metadata": {},
          "execution_count": 250
        },
        {
          "output_type": "display_data",
          "data": {
            "text/plain": [
              "<Figure size 432x288 with 1 Axes>"
            ],
            "image/png": "[encoded data removed]"
          },
          "metadata": {
            "needs_background": "light"
          }
        }
      ]
    },
    {
      "cell_type": "markdown",
      "source": [
        "##### ROE / Rev_Growth: Here it seems as if each category is taking its own quandrant of the chart. Perhaps the best one. The blue seems to favor a bit towards the middle, as more data came in if that were to repeat then I would look for another comparison to visualize. "
      ],
      "metadata": {
        "id": "BzevjDFS-_Ct"
      }
    },
    {
      "cell_type": "markdown",
      "source": [
        "##### Other Notable Pairs to Visualize the groupings:\n",
        "\n",
        "##### ROA / Asset_Turnover\n",
        "\n",
        "##### ROA / Rev_Growth\n",
        "\n",
        "##### ROA / Net_Profit_Margin\n",
        "\n",
        "##### Rev_Growth / Net_Profit_Margin"
      ],
      "metadata": {
        "id": "lXPmcutvenZd"
      }
    },
    {
      "cell_type": "markdown",
      "source": [
        "##### Task C: Is there a pattern in the clusters with respect to the numerical variables (10 to 12)? (those not used in forming the clusters) "
      ],
      "metadata": {
        "id": "B9ae1ZKyVHXg"
      }
    },
    {
      "cell_type": "code",
      "source": [
        "df_dum_strings = pd.get_dummies(df_strings)\n",
        "df_dum_strings.head()"
      ],
      "metadata": {
        "id": "wBoPIftjWaZJ",
        "colab": {
          "base_uri": "https://localhost:8080/",
          "height": 288
        },
        "outputId": "fd38947c-bca7-4f6c-9594-1d973c1aa4a7"
      },
      "execution_count": null,
      "outputs": [
        {
          "output_type": "execute_result",
          "data": {
            "text/plain": [
              "   Median_Recommendation_Hold  Median_Recommendation_Moderate Buy  \\\n",
              "0                           0                                   1   \n",
              "1                           0                                   1   \n",
              "2                           0                                   0   \n",
              "3                           0                                   0   \n",
              "4                           0                                   1   \n",
              "\n",
              "   Median_Recommendation_Moderate Sell  Median_Recommendation_Strong Buy  \\\n",
              "0                                    0                                 0   \n",
              "1                                    0                                 0   \n",
              "2                                    0                                 1   \n",
              "3                                    1                                 0   \n",
              "4                                    0                                 0   \n",
              "\n",
              "   Location_CANADA  Location_FRANCE  Location_GERMANY  Location_IRELAND  \\\n",
              "0                0                0                 0                 0   \n",
              "1                1                0                 0                 0   \n",
              "2                0                0                 0                 0   \n",
              "3                0                0                 0                 0   \n",
              "4                0                1                 0                 0   \n",
              "\n",
              "   Location_SWITZERLAND  Location_UK  Location_US  Exchange_AMEX  \\\n",
              "0                     0            0            1              0   \n",
              "1                     0            0            0              0   \n",
              "2                     0            1            0              0   \n",
              "3                     0            1            0              0   \n",
              "4                     0            0            0              0   \n",
              "\n",
              "   Exchange_NASDAQ  Exchange_NYSE  \n",
              "0                0              1  \n",
              "1                0              1  \n",
              "2                0              1  \n",
              "3                0              1  \n",
              "4                0              1  "
            ],
            "text/html": [
              "\n",
              "  <div id=\"df-1f0cb055-2bad-4771-a4d3-db52055e0613\">\n",
              "    <div class=\"colab-df-container\">\n",
              "      <div>\n",
              "<style scoped>\n",
              "    .dataframe tbody tr th:only-of-type {\n",
              "        vertical-align: middle;\n",
              "    }\n",
              "\n",
              "    .dataframe tbody tr th {\n",
              "        vertical-align: top;\n",
              "    }\n",
              "\n",
              "    .dataframe thead th {\n",
              "        text-align: right;\n",
              "    }\n",
              "</style>\n",
              "<table border=\"1\" class=\"dataframe\">\n",
              "  <thead>\n",
              "    <tr style=\"text-align: right;\">\n",
              "      <th></th>\n",
              "      <th>Median_Recommendation_Hold</th>\n",
              "      <th>Median_Recommendation_Moderate Buy</th>\n",
              "      <th>Median_Recommendation_Moderate Sell</th>\n",
              "      <th>Median_Recommendation_Strong Buy</th>\n",
              "      <th>Location_CANADA</th>\n",
              "      <th>Location_FRANCE</th>\n",
              "      <th>Location_GERMANY</th>\n",
              "      <th>Location_IRELAND</th>\n",
              "      <th>Location_SWITZERLAND</th>\n",
              "      <th>Location_UK</th>\n",
              "      <th>Location_US</th>\n",
              "      <th>Exchange_AMEX</th>\n",
              "      <th>Exchange_NASDAQ</th>\n",
              "      <th>Exchange_NYSE</th>\n",
              "    </tr>\n",
              "  </thead>\n",
              "  <tbody>\n",
              "    <tr>\n",
              "      <th>0</th>\n",
              "      <td>0</td>\n",
              "      <td>1</td>\n",
              "      <td>0</td>\n",
              "      <td>0</td>\n",
              "      <td>0</td>\n",
              "      <td>0</td>\n",
              "      <td>0</td>\n",
              "      <td>0</td>\n",
              "      <td>0</td>\n",
              "      <td>0</td>\n",
              "      <td>1</td>\n",
              "      <td>0</td>\n",
              "      <td>0</td>\n",
              "      <td>1</td>\n",
              "    </tr>\n",
              "    <tr>\n",
              "      <th>1</th>\n",
              "      <td>0</td>\n",
              "      <td>1</td>\n",
              "      <td>0</td>\n",
              "      <td>0</td>\n",
              "      <td>1</td>\n",
              "      <td>0</td>\n",
              "      <td>0</td>\n",
              "      <td>0</td>\n",
              "      <td>0</td>\n",
              "      <td>0</td>\n",
              "      <td>0</td>\n",
              "      <td>0</td>\n",
              "      <td>0</td>\n",
              "      <td>1</td>\n",
              "    </tr>\n",
              "    <tr>\n",
              "      <th>2</th>\n",
              "      <td>0</td>\n",
              "      <td>0</td>\n",
              "      <td>0</td>\n",
              "      <td>1</td>\n",
              "      <td>0</td>\n",
              "      <td>0</td>\n",
              "      <td>0</td>\n",
              "      <td>0</td>\n",
              "      <td>0</td>\n",
              "      <td>1</td>\n",
              "      <td>0</td>\n",
              "      <td>0</td>\n",
              "      <td>0</td>\n",
              "      <td>1</td>\n",
              "    </tr>\n",
              "    <tr>\n",
              "      <th>3</th>\n",
              "      <td>0</td>\n",
              "      <td>0</td>\n",
              "      <td>1</td>\n",
              "      <td>0</td>\n",
              "      <td>0</td>\n",
              "      <td>0</td>\n",
              "      <td>0</td>\n",
              "      <td>0</td>\n",
              "      <td>0</td>\n",
              "      <td>1</td>\n",
              "      <td>0</td>\n",
              "      <td>0</td>\n",
              "      <td>0</td>\n",
              "      <td>1</td>\n",
              "    </tr>\n",
              "    <tr>\n",
              "      <th>4</th>\n",
              "      <td>0</td>\n",
              "      <td>1</td>\n",
              "      <td>0</td>\n",
              "      <td>0</td>\n",
              "      <td>0</td>\n",
              "      <td>1</td>\n",
              "      <td>0</td>\n",
              "      <td>0</td>\n",
              "      <td>0</td>\n",
              "      <td>0</td>\n",
              "      <td>0</td>\n",
              "      <td>0</td>\n",
              "      <td>0</td>\n",
              "      <td>1</td>\n",
              "    </tr>\n",
              "  </tbody>\n",
              "</table>\n",
              "</div>\n",
              "      <button class=\"colab-df-convert\" onclick=\"convertToInteractive('df-1f0cb055-2bad-4771-a4d3-db52055e0613')\"\n",
              "              title=\"Convert this dataframe to an interactive table.\"\n",
              "              style=\"display:none;\">\n",
              "        \n",
              "  <svg xmlns=\"http://www.w3.org/2000/svg\" height=\"24px\"viewBox=\"0 0 24 24\"\n",
              "       width=\"24px\">\n",
              "    <path d=\"M0 0h24v24H0V0z\" fill=\"none\"/>\n",
              "    <path d=\"M18.56 5.44l.94 2.06.94-2.06 2.06-.94-2.06-.94-.94-2.06-.94 2.06-2.06.94zm-11 1L8.5 8.5l.94-2.06 2.06-.94-2.06-.94L8.5 2.5l-.94 2.06-2.06.94zm10 10l.94 2.06.94-2.06 2.06-.94-2.06-.94-.94-2.06-.94 2.06-2.06.94z\"/><path d=\"M17.41 7.96l-1.37-1.37c-.4-.4-.92-.59-1.43-.59-.52 0-1.04.2-1.43.59L10.3 9.45l-7.72 7.72c-.78.78-.78 2.05 0 2.83L4 21.41c.39.39.9.59 1.41.59.51 0 1.02-.2 1.41-.59l7.78-7.78 2.81-2.81c.8-.78.8-2.07 0-2.86zM5.41 20L4 18.59l7.72-7.72 1.47 1.35L5.41 20z\"/>\n",
              "  </svg>\n",
              "      </button>\n",
              "      \n",
              "  <style>\n",
              "    .colab-df-container {\n",
              "      display:flex;\n",
              "      flex-wrap:wrap;\n",
              "      gap: 12px;\n",
              "    }\n",
              "\n",
              "    .colab-df-convert {\n",
              "      background-color: #E8F0FE;\n",
              "      border: none;\n",
              "      border-radius: 50%;\n",
              "      cursor: pointer;\n",
              "      display: none;\n",
              "      fill: #1967D2;\n",
              "      height: 32px;\n",
              "      padding: 0 0 0 0;\n",
              "      width: 32px;\n",
              "    }\n",
              "\n",
              "    .colab-df-convert:hover {\n",
              "      background-color: #E2EBFA;\n",
              "      box-shadow: 0px 1px 2px rgba(60, 64, 67, 0.3), 0px 1px 3px 1px rgba(60, 64, 67, 0.15);\n",
              "      fill: #174EA6;\n",
              "    }\n",
              "\n",
              "    [theme=dark] .colab-df-convert {\n",
              "      background-color: #3B4455;\n",
              "      fill: #D2E3FC;\n",
              "    }\n",
              "\n",
              "    [theme=dark] .colab-df-convert:hover {\n",
              "      background-color: #434B5C;\n",
              "      box-shadow: 0px 1px 3px 1px rgba(0, 0, 0, 0.15);\n",
              "      filter: drop-shadow(0px 1px 2px rgba(0, 0, 0, 0.3));\n",
              "      fill: #FFFFFF;\n",
              "    }\n",
              "  </style>\n",
              "\n",
              "      <script>\n",
              "        const buttonEl =\n",
              "          document.querySelector('#df-1f0cb055-2bad-4771-a4d3-db52055e0613 button.colab-df-convert');\n",
              "        buttonEl.style.display =\n",
              "          google.colab.kernel.accessAllowed ? 'block' : 'none';\n",
              "\n",
              "        async function convertToInteractive(key) {\n",
              "          const element = document.querySelector('#df-1f0cb055-2bad-4771-a4d3-db52055e0613');\n",
              "          const dataTable =\n",
              "            await google.colab.kernel.invokeFunction('convertToInteractive',\n",
              "                                                     [key], {});\n",
              "          if (!dataTable) return;\n",
              "\n",
              "          const docLinkHtml = 'Like what you see? Visit the ' +\n",
              "            '<a target=\"_blank\" href=https://colab.research.google.com/notebooks/data_table.ipynb>data table notebook</a>'\n",
              "            + ' to learn more about interactive tables.';\n",
              "          element.innerHTML = '';\n",
              "          dataTable['output_type'] = 'display_data';\n",
              "          await google.colab.output.renderOutput(dataTable, element);\n",
              "          const docLink = document.createElement('div');\n",
              "          docLink.innerHTML = docLinkHtml;\n",
              "          element.appendChild(docLink);\n",
              "        }\n",
              "      </script>\n",
              "    </div>\n",
              "  </div>\n",
              "  "
            ]
          },
          "metadata": {},
          "execution_count": 251
        }
      ]
    },
    {
      "cell_type": "code",
      "source": [
        "km = KMeans(n_clusters=4, algorithm = 'auto')\n",
        "km = km.fit(df_dum_strings)\n",
        "y_predict = km.fit_predict(df_dum_strings)\n",
        "df_dum_strings['Category'] = y_predict\n",
        "df_dum_strings.head()"
      ],
      "metadata": {
        "id": "TkDXV6uGWaWl",
        "colab": {
          "base_uri": "https://localhost:8080/",
          "height": 288
        },
        "outputId": "fa69f834-efbd-4e32-ed56-66987983d06e"
      },
      "execution_count": null,
      "outputs": [
        {
          "output_type": "execute_result",
          "data": {
            "text/plain": [
              "   Median_Recommendation_Hold  Median_Recommendation_Moderate Buy  \\\n",
              "0                           0                                   1   \n",
              "1                           0                                   1   \n",
              "2                           0                                   0   \n",
              "3                           0                                   0   \n",
              "4                           0                                   1   \n",
              "\n",
              "   Median_Recommendation_Moderate Sell  Median_Recommendation_Strong Buy  \\\n",
              "0                                    0                                 0   \n",
              "1                                    0                                 0   \n",
              "2                                    0                                 1   \n",
              "3                                    1                                 0   \n",
              "4                                    0                                 0   \n",
              "\n",
              "   Location_CANADA  Location_FRANCE  Location_GERMANY  Location_IRELAND  \\\n",
              "0                0                0                 0                 0   \n",
              "1                1                0                 0                 0   \n",
              "2                0                0                 0                 0   \n",
              "3                0                0                 0                 0   \n",
              "4                0                1                 0                 0   \n",
              "\n",
              "   Location_SWITZERLAND  Location_UK  Location_US  Exchange_AMEX  \\\n",
              "0                     0            0            1              0   \n",
              "1                     0            0            0              0   \n",
              "2                     0            1            0              0   \n",
              "3                     0            1            0              0   \n",
              "4                     0            0            0              0   \n",
              "\n",
              "   Exchange_NASDAQ  Exchange_NYSE  Category  \n",
              "0                0              1         0  \n",
              "1                0              1         0  \n",
              "2                0              1         3  \n",
              "3                0              1         3  \n",
              "4                0              1         0  "
            ],
            "text/html": [
              "\n",
              "  <div id=\"df-82511bc2-1dc2-4d52-bb75-8d547c239edf\">\n",
              "    <div class=\"colab-df-container\">\n",
              "      <div>\n",
              "<style scoped>\n",
              "    .dataframe tbody tr th:only-of-type {\n",
              "        vertical-align: middle;\n",
              "    }\n",
              "\n",
              "    .dataframe tbody tr th {\n",
              "        vertical-align: top;\n",
              "    }\n",
              "\n",
              "    .dataframe thead th {\n",
              "        text-align: right;\n",
              "    }\n",
              "</style>\n",
              "<table border=\"1\" class=\"dataframe\">\n",
              "  <thead>\n",
              "    <tr style=\"text-align: right;\">\n",
              "      <th></th>\n",
              "      <th>Median_Recommendation_Hold</th>\n",
              "      <th>Median_Recommendation_Moderate Buy</th>\n",
              "      <th>Median_Recommendation_Moderate Sell</th>\n",
              "      <th>Median_Recommendation_Strong Buy</th>\n",
              "      <th>Location_CANADA</th>\n",
              "      <th>Location_FRANCE</th>\n",
              "      <th>Location_GERMANY</th>\n",
              "      <th>Location_IRELAND</th>\n",
              "      <th>Location_SWITZERLAND</th>\n",
              "      <th>Location_UK</th>\n",
              "      <th>Location_US</th>\n",
              "      <th>Exchange_AMEX</th>\n",
              "      <th>Exchange_NASDAQ</th>\n",
              "      <th>Exchange_NYSE</th>\n",
              "      <th>Category</th>\n",
              "    </tr>\n",
              "  </thead>\n",
              "  <tbody>\n",
              "    <tr>\n",
              "      <th>0</th>\n",
              "      <td>0</td>\n",
              "      <td>1</td>\n",
              "      <td>0</td>\n",
              "      <td>0</td>\n",
              "      <td>0</td>\n",
              "      <td>0</td>\n",
              "      <td>0</td>\n",
              "      <td>0</td>\n",
              "      <td>0</td>\n",
              "      <td>0</td>\n",
              "      <td>1</td>\n",
              "      <td>0</td>\n",
              "      <td>0</td>\n",
              "      <td>1</td>\n",
              "      <td>0</td>\n",
              "    </tr>\n",
              "    <tr>\n",
              "      <th>1</th>\n",
              "      <td>0</td>\n",
              "      <td>1</td>\n",
              "      <td>0</td>\n",
              "      <td>0</td>\n",
              "      <td>1</td>\n",
              "      <td>0</td>\n",
              "      <td>0</td>\n",
              "      <td>0</td>\n",
              "      <td>0</td>\n",
              "      <td>0</td>\n",
              "      <td>0</td>\n",
              "      <td>0</td>\n",
              "      <td>0</td>\n",
              "      <td>1</td>\n",
              "      <td>0</td>\n",
              "    </tr>\n",
              "    <tr>\n",
              "      <th>2</th>\n",
              "      <td>0</td>\n",
              "      <td>0</td>\n",
              "      <td>0</td>\n",
              "      <td>1</td>\n",
              "      <td>0</td>\n",
              "      <td>0</td>\n",
              "      <td>0</td>\n",
              "      <td>0</td>\n",
              "      <td>0</td>\n",
              "      <td>1</td>\n",
              "      <td>0</td>\n",
              "      <td>0</td>\n",
              "      <td>0</td>\n",
              "      <td>1</td>\n",
              "      <td>3</td>\n",
              "    </tr>\n",
              "    <tr>\n",
              "      <th>3</th>\n",
              "      <td>0</td>\n",
              "      <td>0</td>\n",
              "      <td>1</td>\n",
              "      <td>0</td>\n",
              "      <td>0</td>\n",
              "      <td>0</td>\n",
              "      <td>0</td>\n",
              "      <td>0</td>\n",
              "      <td>0</td>\n",
              "      <td>1</td>\n",
              "      <td>0</td>\n",
              "      <td>0</td>\n",
              "      <td>0</td>\n",
              "      <td>1</td>\n",
              "      <td>3</td>\n",
              "    </tr>\n",
              "    <tr>\n",
              "      <th>4</th>\n",
              "      <td>0</td>\n",
              "      <td>1</td>\n",
              "      <td>0</td>\n",
              "      <td>0</td>\n",
              "      <td>0</td>\n",
              "      <td>1</td>\n",
              "      <td>0</td>\n",
              "      <td>0</td>\n",
              "      <td>0</td>\n",
              "      <td>0</td>\n",
              "      <td>0</td>\n",
              "      <td>0</td>\n",
              "      <td>0</td>\n",
              "      <td>1</td>\n",
              "      <td>0</td>\n",
              "    </tr>\n",
              "  </tbody>\n",
              "</table>\n",
              "</div>\n",
              "      <button class=\"colab-df-convert\" onclick=\"convertToInteractive('df-82511bc2-1dc2-4d52-bb75-8d547c239edf')\"\n",
              "              title=\"Convert this dataframe to an interactive table.\"\n",
              "              style=\"display:none;\">\n",
              "        \n",
              "  <svg xmlns=\"http://www.w3.org/2000/svg\" height=\"24px\"viewBox=\"0 0 24 24\"\n",
              "       width=\"24px\">\n",
              "    <path d=\"M0 0h24v24H0V0z\" fill=\"none\"/>\n",
              "    <path d=\"M18.56 5.44l.94 2.06.94-2.06 2.06-.94-2.06-.94-.94-2.06-.94 2.06-2.06.94zm-11 1L8.5 8.5l.94-2.06 2.06-.94-2.06-.94L8.5 2.5l-.94 2.06-2.06.94zm10 10l.94 2.06.94-2.06 2.06-.94-2.06-.94-.94-2.06-.94 2.06-2.06.94z\"/><path d=\"M17.41 7.96l-1.37-1.37c-.4-.4-.92-.59-1.43-.59-.52 0-1.04.2-1.43.59L10.3 9.45l-7.72 7.72c-.78.78-.78 2.05 0 2.83L4 21.41c.39.39.9.59 1.41.59.51 0 1.02-.2 1.41-.59l7.78-7.78 2.81-2.81c.8-.78.8-2.07 0-2.86zM5.41 20L4 18.59l7.72-7.72 1.47 1.35L5.41 20z\"/>\n",
              "  </svg>\n",
              "      </button>\n",
              "      \n",
              "  <style>\n",
              "    .colab-df-container {\n",
              "      display:flex;\n",
              "      flex-wrap:wrap;\n",
              "      gap: 12px;\n",
              "    }\n",
              "\n",
              "    .colab-df-convert {\n",
              "      background-color: #E8F0FE;\n",
              "      border: none;\n",
              "      border-radius: 50%;\n",
              "      cursor: pointer;\n",
              "      display: none;\n",
              "      fill: #1967D2;\n",
              "      height: 32px;\n",
              "      padding: 0 0 0 0;\n",
              "      width: 32px;\n",
              "    }\n",
              "\n",
              "    .colab-df-convert:hover {\n",
              "      background-color: #E2EBFA;\n",
              "      box-shadow: 0px 1px 2px rgba(60, 64, 67, 0.3), 0px 1px 3px 1px rgba(60, 64, 67, 0.15);\n",
              "      fill: #174EA6;\n",
              "    }\n",
              "\n",
              "    [theme=dark] .colab-df-convert {\n",
              "      background-color: #3B4455;\n",
              "      fill: #D2E3FC;\n",
              "    }\n",
              "\n",
              "    [theme=dark] .colab-df-convert:hover {\n",
              "      background-color: #434B5C;\n",
              "      box-shadow: 0px 1px 3px 1px rgba(0, 0, 0, 0.15);\n",
              "      filter: drop-shadow(0px 1px 2px rgba(0, 0, 0, 0.3));\n",
              "      fill: #FFFFFF;\n",
              "    }\n",
              "  </style>\n",
              "\n",
              "      <script>\n",
              "        const buttonEl =\n",
              "          document.querySelector('#df-82511bc2-1dc2-4d52-bb75-8d547c239edf button.colab-df-convert');\n",
              "        buttonEl.style.display =\n",
              "          google.colab.kernel.accessAllowed ? 'block' : 'none';\n",
              "\n",
              "        async function convertToInteractive(key) {\n",
              "          const element = document.querySelector('#df-82511bc2-1dc2-4d52-bb75-8d547c239edf');\n",
              "          const dataTable =\n",
              "            await google.colab.kernel.invokeFunction('convertToInteractive',\n",
              "                                                     [key], {});\n",
              "          if (!dataTable) return;\n",
              "\n",
              "          const docLinkHtml = 'Like what you see? Visit the ' +\n",
              "            '<a target=\"_blank\" href=https://colab.research.google.com/notebooks/data_table.ipynb>data table notebook</a>'\n",
              "            + ' to learn more about interactive tables.';\n",
              "          element.innerHTML = '';\n",
              "          dataTable['output_type'] = 'display_data';\n",
              "          await google.colab.output.renderOutput(dataTable, element);\n",
              "          const docLink = document.createElement('div');\n",
              "          docLink.innerHTML = docLinkHtml;\n",
              "          element.appendChild(docLink);\n",
              "        }\n",
              "      </script>\n",
              "    </div>\n",
              "  </div>\n",
              "  "
            ]
          },
          "metadata": {},
          "execution_count": 252
        }
      ]
    },
    {
      "cell_type": "code",
      "source": [
        "df_companies_info = df[['Symbol', 'Name', 'Median_Recommendation']]\n",
        "\n",
        "df_dum_strings = pd.concat([df_companies_info, df_dum_strings], axis = 1)\n",
        "df_dum_strings.head()"
      ],
      "metadata": {
        "colab": {
          "base_uri": "https://localhost:8080/",
          "height": 357
        },
        "id": "QIPY3vjzFmhS",
        "outputId": "5b0d56a5-57c2-48a6-8518-672859e4db65"
      },
      "execution_count": null,
      "outputs": [
        {
          "output_type": "execute_result",
          "data": {
            "text/plain": [
              "  Symbol                 Name Median_Recommendation  \\\n",
              "0    ABT  Abbott Laboratories          Moderate Buy   \n",
              "1    AGN       Allergan, Inc.          Moderate Buy   \n",
              "2    AHM         Amersham plc            Strong Buy   \n",
              "3    AZN      AstraZeneca PLC         Moderate Sell   \n",
              "4    AVE              Aventis          Moderate Buy   \n",
              "\n",
              "   Median_Recommendation_Hold  Median_Recommendation_Moderate Buy  \\\n",
              "0                           0                                   1   \n",
              "1                           0                                   1   \n",
              "2                           0                                   0   \n",
              "3                           0                                   0   \n",
              "4                           0                                   1   \n",
              "\n",
              "   Median_Recommendation_Moderate Sell  Median_Recommendation_Strong Buy  \\\n",
              "0                                    0                                 0   \n",
              "1                                    0                                 0   \n",
              "2                                    0                                 1   \n",
              "3                                    1                                 0   \n",
              "4                                    0                                 0   \n",
              "\n",
              "   Location_CANADA  Location_FRANCE  Location_GERMANY  Location_IRELAND  \\\n",
              "0                0                0                 0                 0   \n",
              "1                1                0                 0                 0   \n",
              "2                0                0                 0                 0   \n",
              "3                0                0                 0                 0   \n",
              "4                0                1                 0                 0   \n",
              "\n",
              "   Location_SWITZERLAND  Location_UK  Location_US  Exchange_AMEX  \\\n",
              "0                     0            0            1              0   \n",
              "1                     0            0            0              0   \n",
              "2                     0            1            0              0   \n",
              "3                     0            1            0              0   \n",
              "4                     0            0            0              0   \n",
              "\n",
              "   Exchange_NASDAQ  Exchange_NYSE  Category  \n",
              "0                0              1         0  \n",
              "1                0              1         0  \n",
              "2                0              1         3  \n",
              "3                0              1         3  \n",
              "4                0              1         0  "
            ],
            "text/html": [
              "\n",
              "  <div id=\"df-b14306b0-d587-4e46-986f-7a82794dba94\">\n",
              "    <div class=\"colab-df-container\">\n",
              "      <div>\n",
              "<style scoped>\n",
              "    .dataframe tbody tr th:only-of-type {\n",
              "        vertical-align: middle;\n",
              "    }\n",
              "\n",
              "    .dataframe tbody tr th {\n",
              "        vertical-align: top;\n",
              "    }\n",
              "\n",
              "    .dataframe thead th {\n",
              "        text-align: right;\n",
              "    }\n",
              "</style>\n",
              "<table border=\"1\" class=\"dataframe\">\n",
              "  <thead>\n",
              "    <tr style=\"text-align: right;\">\n",
              "      <th></th>\n",
              "      <th>Symbol</th>\n",
              "      <th>Name</th>\n",
              "      <th>Median_Recommendation</th>\n",
              "      <th>Median_Recommendation_Hold</th>\n",
              "      <th>Median_Recommendation_Moderate Buy</th>\n",
              "      <th>Median_Recommendation_Moderate Sell</th>\n",
              "      <th>Median_Recommendation_Strong Buy</th>\n",
              "      <th>Location_CANADA</th>\n",
              "      <th>Location_FRANCE</th>\n",
              "      <th>Location_GERMANY</th>\n",
              "      <th>Location_IRELAND</th>\n",
              "      <th>Location_SWITZERLAND</th>\n",
              "      <th>Location_UK</th>\n",
              "      <th>Location_US</th>\n",
              "      <th>Exchange_AMEX</th>\n",
              "      <th>Exchange_NASDAQ</th>\n",
              "      <th>Exchange_NYSE</th>\n",
              "      <th>Category</th>\n",
              "    </tr>\n",
              "  </thead>\n",
              "  <tbody>\n",
              "    <tr>\n",
              "      <th>0</th>\n",
              "      <td>ABT</td>\n",
              "      <td>Abbott Laboratories</td>\n",
              "      <td>Moderate Buy</td>\n",
              "      <td>0</td>\n",
              "      <td>1</td>\n",
              "      <td>0</td>\n",
              "      <td>0</td>\n",
              "      <td>0</td>\n",
              "      <td>0</td>\n",
              "      <td>0</td>\n",
              "      <td>0</td>\n",
              "      <td>0</td>\n",
              "      <td>0</td>\n",
              "      <td>1</td>\n",
              "      <td>0</td>\n",
              "      <td>0</td>\n",
              "      <td>1</td>\n",
              "      <td>0</td>\n",
              "    </tr>\n",
              "    <tr>\n",
              "      <th>1</th>\n",
              "      <td>AGN</td>\n",
              "      <td>Allergan, Inc.</td>\n",
              "      <td>Moderate Buy</td>\n",
              "      <td>0</td>\n",
              "      <td>1</td>\n",
              "      <td>0</td>\n",
              "      <td>0</td>\n",
              "      <td>1</td>\n",
              "      <td>0</td>\n",
              "      <td>0</td>\n",
              "      <td>0</td>\n",
              "      <td>0</td>\n",
              "      <td>0</td>\n",
              "      <td>0</td>\n",
              "      <td>0</td>\n",
              "      <td>0</td>\n",
              "      <td>1</td>\n",
              "      <td>0</td>\n",
              "    </tr>\n",
              "    <tr>\n",
              "      <th>2</th>\n",
              "      <td>AHM</td>\n",
              "      <td>Amersham plc</td>\n",
              "      <td>Strong Buy</td>\n",
              "      <td>0</td>\n",
              "      <td>0</td>\n",
              "      <td>0</td>\n",
              "      <td>1</td>\n",
              "      <td>0</td>\n",
              "      <td>0</td>\n",
              "      <td>0</td>\n",
              "      <td>0</td>\n",
              "      <td>0</td>\n",
              "      <td>1</td>\n",
              "      <td>0</td>\n",
              "      <td>0</td>\n",
              "      <td>0</td>\n",
              "      <td>1</td>\n",
              "      <td>3</td>\n",
              "    </tr>\n",
              "    <tr>\n",
              "      <th>3</th>\n",
              "      <td>AZN</td>\n",
              "      <td>AstraZeneca PLC</td>\n",
              "      <td>Moderate Sell</td>\n",
              "      <td>0</td>\n",
              "      <td>0</td>\n",
              "      <td>1</td>\n",
              "      <td>0</td>\n",
              "      <td>0</td>\n",
              "      <td>0</td>\n",
              "      <td>0</td>\n",
              "      <td>0</td>\n",
              "      <td>0</td>\n",
              "      <td>1</td>\n",
              "      <td>0</td>\n",
              "      <td>0</td>\n",
              "      <td>0</td>\n",
              "      <td>1</td>\n",
              "      <td>3</td>\n",
              "    </tr>\n",
              "    <tr>\n",
              "      <th>4</th>\n",
              "      <td>AVE</td>\n",
              "      <td>Aventis</td>\n",
              "      <td>Moderate Buy</td>\n",
              "      <td>0</td>\n",
              "      <td>1</td>\n",
              "      <td>0</td>\n",
              "      <td>0</td>\n",
              "      <td>0</td>\n",
              "      <td>1</td>\n",
              "      <td>0</td>\n",
              "      <td>0</td>\n",
              "      <td>0</td>\n",
              "      <td>0</td>\n",
              "      <td>0</td>\n",
              "      <td>0</td>\n",
              "      <td>0</td>\n",
              "      <td>1</td>\n",
              "      <td>0</td>\n",
              "    </tr>\n",
              "  </tbody>\n",
              "</table>\n",
              "</div>\n",
              "      <button class=\"colab-df-convert\" onclick=\"convertToInteractive('df-b14306b0-d587-4e46-986f-7a82794dba94')\"\n",
              "              title=\"Convert this dataframe to an interactive table.\"\n",
              "              style=\"display:none;\">\n",
              "        \n",
              "  <svg xmlns=\"http://www.w3.org/2000/svg\" height=\"24px\"viewBox=\"0 0 24 24\"\n",
              "       width=\"24px\">\n",
              "    <path d=\"M0 0h24v24H0V0z\" fill=\"none\"/>\n",
              "    <path d=\"M18.56 5.44l.94 2.06.94-2.06 2.06-.94-2.06-.94-.94-2.06-.94 2.06-2.06.94zm-11 1L8.5 8.5l.94-2.06 2.06-.94-2.06-.94L8.5 2.5l-.94 2.06-2.06.94zm10 10l.94 2.06.94-2.06 2.06-.94-2.06-.94-.94-2.06-.94 2.06-2.06.94z\"/><path d=\"M17.41 7.96l-1.37-1.37c-.4-.4-.92-.59-1.43-.59-.52 0-1.04.2-1.43.59L10.3 9.45l-7.72 7.72c-.78.78-.78 2.05 0 2.83L4 21.41c.39.39.9.59 1.41.59.51 0 1.02-.2 1.41-.59l7.78-7.78 2.81-2.81c.8-.78.8-2.07 0-2.86zM5.41 20L4 18.59l7.72-7.72 1.47 1.35L5.41 20z\"/>\n",
              "  </svg>\n",
              "      </button>\n",
              "      \n",
              "  <style>\n",
              "    .colab-df-container {\n",
              "      display:flex;\n",
              "      flex-wrap:wrap;\n",
              "      gap: 12px;\n",
              "    }\n",
              "\n",
              "    .colab-df-convert {\n",
              "      background-color: #E8F0FE;\n",
              "      border: none;\n",
              "      border-radius: 50%;\n",
              "      cursor: pointer;\n",
              "      display: none;\n",
              "      fill: #1967D2;\n",
              "      height: 32px;\n",
              "      padding: 0 0 0 0;\n",
              "      width: 32px;\n",
              "    }\n",
              "\n",
              "    .colab-df-convert:hover {\n",
              "      background-color: #E2EBFA;\n",
              "      box-shadow: 0px 1px 2px rgba(60, 64, 67, 0.3), 0px 1px 3px 1px rgba(60, 64, 67, 0.15);\n",
              "      fill: #174EA6;\n",
              "    }\n",
              "\n",
              "    [theme=dark] .colab-df-convert {\n",
              "      background-color: #3B4455;\n",
              "      fill: #D2E3FC;\n",
              "    }\n",
              "\n",
              "    [theme=dark] .colab-df-convert:hover {\n",
              "      background-color: #434B5C;\n",
              "      box-shadow: 0px 1px 3px 1px rgba(0, 0, 0, 0.15);\n",
              "      filter: drop-shadow(0px 1px 2px rgba(0, 0, 0, 0.3));\n",
              "      fill: #FFFFFF;\n",
              "    }\n",
              "  </style>\n",
              "\n",
              "      <script>\n",
              "        const buttonEl =\n",
              "          document.querySelector('#df-b14306b0-d587-4e46-986f-7a82794dba94 button.colab-df-convert');\n",
              "        buttonEl.style.display =\n",
              "          google.colab.kernel.accessAllowed ? 'block' : 'none';\n",
              "\n",
              "        async function convertToInteractive(key) {\n",
              "          const element = document.querySelector('#df-b14306b0-d587-4e46-986f-7a82794dba94');\n",
              "          const dataTable =\n",
              "            await google.colab.kernel.invokeFunction('convertToInteractive',\n",
              "                                                     [key], {});\n",
              "          if (!dataTable) return;\n",
              "\n",
              "          const docLinkHtml = 'Like what you see? Visit the ' +\n",
              "            '<a target=\"_blank\" href=https://colab.research.google.com/notebooks/data_table.ipynb>data table notebook</a>'\n",
              "            + ' to learn more about interactive tables.';\n",
              "          element.innerHTML = '';\n",
              "          dataTable['output_type'] = 'display_data';\n",
              "          await google.colab.output.renderOutput(dataTable, element);\n",
              "          const docLink = document.createElement('div');\n",
              "          docLink.innerHTML = docLinkHtml;\n",
              "          element.appendChild(docLink);\n",
              "        }\n",
              "      </script>\n",
              "    </div>\n",
              "  </div>\n",
              "  "
            ]
          },
          "metadata": {},
          "execution_count": 253
        }
      ]
    },
    {
      "cell_type": "code",
      "source": [
        "df1 = df_dum_strings[df_dum_strings.Category==0]\n",
        "df2 = df_dum_strings[df_dum_strings.Category==1]\n",
        "df3 = df_dum_strings[df_dum_strings.Category==2]\n",
        "df4 = df_dum_strings[df_dum_strings.Category==3]\n",
        "\n",
        "\n",
        "\n",
        "plt.scatter(df1['Symbol'],df1['Median_Recommendation'],color='blue')\n",
        "plt.scatter(df2['Symbol'],df2['Median_Recommendation'],color='green')\n",
        "plt.scatter(df3['Symbol'],df3['Median_Recommendation'],color='yellow')\n",
        "plt.scatter(df4['Symbol'],df4['Median_Recommendation'],color='red')\n",
        "plt.xticks(rotation = 90)"
      ],
      "metadata": {
        "colab": {
          "base_uri": "https://localhost:8080/",
          "height": 317
        },
        "id": "UHBPpLTTGPXn",
        "outputId": "510b7ec2-ce37-419e-96b4-8d9a1fa3bef6"
      },
      "execution_count": null,
      "outputs": [
        {
          "output_type": "execute_result",
          "data": {
            "text/plain": [
              "([0, 1, 2, 3, 4, 5, 6, 7, 8, 9, 10, 11, 12, 13, 14, 15, 16, 17, 18, 19, 20],\n",
              " <a list of 21 Text major ticklabel objects>)"
            ]
          },
          "metadata": {},
          "execution_count": 254
        },
        {
          "output_type": "display_data",
          "data": {
            "text/plain": [
              "<Figure size 432x288 with 1 Axes>"
            ],
            "image/png": "[encoded data removed]"
          },
          "metadata": {
            "needs_background": "light"
          }
        }
      ]
    },
    {
      "cell_type": "markdown",
      "source": [
        "##### Good Grouping visualizing the Median Recommendations"
      ],
      "metadata": {
        "id": "1C3b3jmOKQYc"
      }
    },
    {
      "cell_type": "markdown",
      "source": [
        "##### Task D: Provide an appropriate name for each cluster using any or all of the variables in the dataset. "
      ],
      "metadata": {
        "id": "O6PsdcsUVHRK"
      }
    },
    {
      "cell_type": "code",
      "source": [
        "#Using all the variables. \n",
        "\n",
        "df_companies = df[['Symbol', 'Name']]\n",
        "df_dum_strings = df_dum_strings.iloc[: , 3:7]\n",
        "\n",
        "df_all = pd.concat([df_dum_strings, df_nums], axis = 1)\n",
        "df_all.info()"
      ],
      "metadata": {
        "id": "qsqJfEb7UY3s",
        "colab": {
          "base_uri": "https://localhost:8080/"
        },
        "outputId": "fd7b0179-ea6d-43ac-a228-f7a757457e02"
      },
      "execution_count": null,
      "outputs": [
        {
          "output_type": "stream",
          "name": "stdout",
          "text": [
            "<class 'pandas.core.frame.DataFrame'>\n",
            "RangeIndex: 21 entries, 0 to 20\n",
            "Data columns (total 14 columns):\n",
            " #   Column                               Non-Null Count  Dtype  \n",
            "---  ------                               --------------  -----  \n",
            " 0   Median_Recommendation_Hold           21 non-null     uint8  \n",
            " 1   Median_Recommendation_Moderate Buy   21 non-null     uint8  \n",
            " 2   Median_Recommendation_Moderate Sell  21 non-null     uint8  \n",
            " 3   Median_Recommendation_Strong Buy     21 non-null     uint8  \n",
            " 4   Market_Cap                           21 non-null     float64\n",
            " 5   Beta                                 21 non-null     float64\n",
            " 6   PE_Ratio                             21 non-null     float64\n",
            " 7   ROE                                  21 non-null     float64\n",
            " 8   ROA                                  21 non-null     float64\n",
            " 9   Asset_Turnover                       21 non-null     float64\n",
            " 10  Leverage                             21 non-null     float64\n",
            " 11  Rev_Growth                           21 non-null     float64\n",
            " 12  Net_Profit_Margin                    21 non-null     float64\n",
            " 13  Category                             21 non-null     int32  \n",
            "dtypes: float64(9), int32(1), uint8(4)\n",
            "memory usage: 1.8 KB\n"
          ]
        }
      ]
    },
    {
      "cell_type": "markdown",
      "source": [
        "##### Above are the variables I am using"
      ],
      "metadata": {
        "id": "O3DhlT_yVP1X"
      }
    },
    {
      "cell_type": "code",
      "source": [
        "km = KMeans(n_clusters=4)\n",
        "km = km.fit(df_all)\n",
        "y_predict = km.fit_predict(df_all)\n",
        "df_all['Category'] = y_predict\n",
        "df_all.head()"
      ],
      "metadata": {
        "id": "Z4AutPqQWatA",
        "colab": {
          "base_uri": "https://localhost:8080/",
          "height": 288
        },
        "outputId": "169d501d-8630-4e90-8ccd-77374a0a5145"
      },
      "execution_count": null,
      "outputs": [
        {
          "output_type": "execute_result",
          "data": {
            "text/plain": [
              "   Median_Recommendation_Hold  Median_Recommendation_Moderate Buy  \\\n",
              "0                           0                                   1   \n",
              "1                           0                                   1   \n",
              "2                           0                                   0   \n",
              "3                           0                                   0   \n",
              "4                           0                                   1   \n",
              "\n",
              "   Median_Recommendation_Moderate Sell  Median_Recommendation_Strong Buy  \\\n",
              "0                                    0                                 0   \n",
              "1                                    0                                 0   \n",
              "2                                    0                                 1   \n",
              "3                                    1                                 0   \n",
              "4                                    0                                 0   \n",
              "\n",
              "   Market_Cap      Beta  PE_Ratio       ROE       ROA  Asset_Turnover  \\\n",
              "0    0.341756  0.150538  0.267427  0.381356  0.550265           0.500   \n",
              "1    0.036019  0.247312  1.000000  0.152542  0.216931           0.750   \n",
              "2    0.029589  0.301075  0.216730  0.186441  0.338624           0.750   \n",
              "3    0.337687  0.365591  0.226869  0.398305  0.740741           0.750   \n",
              "4    0.234854  0.150538  0.209125  0.303390  0.322751           0.375   \n",
              "\n",
              "   Leverage  Rev_Growth  Net_Profit_Margin  Category  \n",
              "0  0.119658    0.286517           0.589520         2  \n",
              "1  0.170940    0.329856           0.126638         1  \n",
              "2  0.076923    0.273408           0.375546         1  \n",
              "3  0.000000    0.486089           0.672489         2  \n",
              "4  0.096866    0.802033           0.449782         3  "
            ],
            "text/html": [
              "\n",
              "  <div id=\"df-eb87f094-f8de-49e5-98f0-c9b1ad32ed39\">\n",
              "    <div class=\"colab-df-container\">\n",
              "      <div>\n",
              "<style scoped>\n",
              "    .dataframe tbody tr th:only-of-type {\n",
              "        vertical-align: middle;\n",
              "    }\n",
              "\n",
              "    .dataframe tbody tr th {\n",
              "        vertical-align: top;\n",
              "    }\n",
              "\n",
              "    .dataframe thead th {\n",
              "        text-align: right;\n",
              "    }\n",
              "</style>\n",
              "<table border=\"1\" class=\"dataframe\">\n",
              "  <thead>\n",
              "    <tr style=\"text-align: right;\">\n",
              "      <th></th>\n",
              "      <th>Median_Recommendation_Hold</th>\n",
              "      <th>Median_Recommendation_Moderate Buy</th>\n",
              "      <th>Median_Recommendation_Moderate Sell</th>\n",
              "      <th>Median_Recommendation_Strong Buy</th>\n",
              "      <th>Market_Cap</th>\n",
              "      <th>Beta</th>\n",
              "      <th>PE_Ratio</th>\n",
              "      <th>ROE</th>\n",
              "      <th>ROA</th>\n",
              "      <th>Asset_Turnover</th>\n",
              "      <th>Leverage</th>\n",
              "      <th>Rev_Growth</th>\n",
              "      <th>Net_Profit_Margin</th>\n",
              "      <th>Category</th>\n",
              "    </tr>\n",
              "  </thead>\n",
              "  <tbody>\n",
              "    <tr>\n",
              "      <th>0</th>\n",
              "      <td>0</td>\n",
              "      <td>1</td>\n",
              "      <td>0</td>\n",
              "      <td>0</td>\n",
              "      <td>0.341756</td>\n",
              "      <td>0.150538</td>\n",
              "      <td>0.267427</td>\n",
              "      <td>0.381356</td>\n",
              "      <td>0.550265</td>\n",
              "      <td>0.500</td>\n",
              "      <td>0.119658</td>\n",
              "      <td>0.286517</td>\n",
              "      <td>0.589520</td>\n",
              "      <td>2</td>\n",
              "    </tr>\n",
              "    <tr>\n",
              "      <th>1</th>\n",
              "      <td>0</td>\n",
              "      <td>1</td>\n",
              "      <td>0</td>\n",
              "      <td>0</td>\n",
              "      <td>0.036019</td>\n",
              "      <td>0.247312</td>\n",
              "      <td>1.000000</td>\n",
              "      <td>0.152542</td>\n",
              "      <td>0.216931</td>\n",
              "      <td>0.750</td>\n",
              "      <td>0.170940</td>\n",
              "      <td>0.329856</td>\n",
              "      <td>0.126638</td>\n",
              "      <td>1</td>\n",
              "    </tr>\n",
              "    <tr>\n",
              "      <th>2</th>\n",
              "      <td>0</td>\n",
              "      <td>0</td>\n",
              "      <td>0</td>\n",
              "      <td>1</td>\n",
              "      <td>0.029589</td>\n",
              "      <td>0.301075</td>\n",
              "      <td>0.216730</td>\n",
              "      <td>0.186441</td>\n",
              "      <td>0.338624</td>\n",
              "      <td>0.750</td>\n",
              "      <td>0.076923</td>\n",
              "      <td>0.273408</td>\n",
              "      <td>0.375546</td>\n",
              "      <td>1</td>\n",
              "    </tr>\n",
              "    <tr>\n",
              "      <th>3</th>\n",
              "      <td>0</td>\n",
              "      <td>0</td>\n",
              "      <td>1</td>\n",
              "      <td>0</td>\n",
              "      <td>0.337687</td>\n",
              "      <td>0.365591</td>\n",
              "      <td>0.226869</td>\n",
              "      <td>0.398305</td>\n",
              "      <td>0.740741</td>\n",
              "      <td>0.750</td>\n",
              "      <td>0.000000</td>\n",
              "      <td>0.486089</td>\n",
              "      <td>0.672489</td>\n",
              "      <td>2</td>\n",
              "    </tr>\n",
              "    <tr>\n",
              "      <th>4</th>\n",
              "      <td>0</td>\n",
              "      <td>1</td>\n",
              "      <td>0</td>\n",
              "      <td>0</td>\n",
              "      <td>0.234854</td>\n",
              "      <td>0.150538</td>\n",
              "      <td>0.209125</td>\n",
              "      <td>0.303390</td>\n",
              "      <td>0.322751</td>\n",
              "      <td>0.375</td>\n",
              "      <td>0.096866</td>\n",
              "      <td>0.802033</td>\n",
              "      <td>0.449782</td>\n",
              "      <td>3</td>\n",
              "    </tr>\n",
              "  </tbody>\n",
              "</table>\n",
              "</div>\n",
              "      <button class=\"colab-df-convert\" onclick=\"convertToInteractive('df-eb87f094-f8de-49e5-98f0-c9b1ad32ed39')\"\n",
              "              title=\"Convert this dataframe to an interactive table.\"\n",
              "              style=\"display:none;\">\n",
              "        \n",
              "  <svg xmlns=\"http://www.w3.org/2000/svg\" height=\"24px\"viewBox=\"0 0 24 24\"\n",
              "       width=\"24px\">\n",
              "    <path d=\"M0 0h24v24H0V0z\" fill=\"none\"/>\n",
              "    <path d=\"M18.56 5.44l.94 2.06.94-2.06 2.06-.94-2.06-.94-.94-2.06-.94 2.06-2.06.94zm-11 1L8.5 8.5l.94-2.06 2.06-.94-2.06-.94L8.5 2.5l-.94 2.06-2.06.94zm10 10l.94 2.06.94-2.06 2.06-.94-2.06-.94-.94-2.06-.94 2.06-2.06.94z\"/><path d=\"M17.41 7.96l-1.37-1.37c-.4-.4-.92-.59-1.43-.59-.52 0-1.04.2-1.43.59L10.3 9.45l-7.72 7.72c-.78.78-.78 2.05 0 2.83L4 21.41c.39.39.9.59 1.41.59.51 0 1.02-.2 1.41-.59l7.78-7.78 2.81-2.81c.8-.78.8-2.07 0-2.86zM5.41 20L4 18.59l7.72-7.72 1.47 1.35L5.41 20z\"/>\n",
              "  </svg>\n",
              "      </button>\n",
              "      \n",
              "  <style>\n",
              "    .colab-df-container {\n",
              "      display:flex;\n",
              "      flex-wrap:wrap;\n",
              "      gap: 12px;\n",
              "    }\n",
              "\n",
              "    .colab-df-convert {\n",
              "      background-color: #E8F0FE;\n",
              "      border: none;\n",
              "      border-radius: 50%;\n",
              "      cursor: pointer;\n",
              "      display: none;\n",
              "      fill: #1967D2;\n",
              "      height: 32px;\n",
              "      padding: 0 0 0 0;\n",
              "      width: 32px;\n",
              "    }\n",
              "\n",
              "    .colab-df-convert:hover {\n",
              "      background-color: #E2EBFA;\n",
              "      box-shadow: 0px 1px 2px rgba(60, 64, 67, 0.3), 0px 1px 3px 1px rgba(60, 64, 67, 0.15);\n",
              "      fill: #174EA6;\n",
              "    }\n",
              "\n",
              "    [theme=dark] .colab-df-convert {\n",
              "      background-color: #3B4455;\n",
              "      fill: #D2E3FC;\n",
              "    }\n",
              "\n",
              "    [theme=dark] .colab-df-convert:hover {\n",
              "      background-color: #434B5C;\n",
              "      box-shadow: 0px 1px 3px 1px rgba(0, 0, 0, 0.15);\n",
              "      filter: drop-shadow(0px 1px 2px rgba(0, 0, 0, 0.3));\n",
              "      fill: #FFFFFF;\n",
              "    }\n",
              "  </style>\n",
              "\n",
              "      <script>\n",
              "        const buttonEl =\n",
              "          document.querySelector('#df-eb87f094-f8de-49e5-98f0-c9b1ad32ed39 button.colab-df-convert');\n",
              "        buttonEl.style.display =\n",
              "          google.colab.kernel.accessAllowed ? 'block' : 'none';\n",
              "\n",
              "        async function convertToInteractive(key) {\n",
              "          const element = document.querySelector('#df-eb87f094-f8de-49e5-98f0-c9b1ad32ed39');\n",
              "          const dataTable =\n",
              "            await google.colab.kernel.invokeFunction('convertToInteractive',\n",
              "                                                     [key], {});\n",
              "          if (!dataTable) return;\n",
              "\n",
              "          const docLinkHtml = 'Like what you see? Visit the ' +\n",
              "            '<a target=\"_blank\" href=https://colab.research.google.com/notebooks/data_table.ipynb>data table notebook</a>'\n",
              "            + ' to learn more about interactive tables.';\n",
              "          element.innerHTML = '';\n",
              "          dataTable['output_type'] = 'display_data';\n",
              "          await google.colab.output.renderOutput(dataTable, element);\n",
              "          const docLink = document.createElement('div');\n",
              "          docLink.innerHTML = docLinkHtml;\n",
              "          element.appendChild(docLink);\n",
              "        }\n",
              "      </script>\n",
              "    </div>\n",
              "  </div>\n",
              "  "
            ]
          },
          "metadata": {},
          "execution_count": 256
        }
      ]
    },
    {
      "cell_type": "markdown",
      "source": [
        "##### Exploring the clusters:"
      ],
      "metadata": {
        "id": "LrcDhSoUOJk2"
      }
    },
    {
      "cell_type": "code",
      "source": [
        "df_companies = df[['Symbol', 'Name']]\n",
        "\n",
        "df_all = pd.concat([df_companies, df_all], axis = 1)\n",
        "df_all.columns"
      ],
      "metadata": {
        "colab": {
          "base_uri": "https://localhost:8080/"
        },
        "id": "P5wjaTylOciW",
        "outputId": "1fef5123-cb60-453f-a65a-94811977257a"
      },
      "execution_count": null,
      "outputs": [
        {
          "output_type": "execute_result",
          "data": {
            "text/plain": [
              "Index(['Symbol', 'Name', 'Median_Recommendation_Hold',\n",
              "       'Median_Recommendation_Moderate Buy',\n",
              "       'Median_Recommendation_Moderate Sell',\n",
              "       'Median_Recommendation_Strong Buy', 'Market_Cap', 'Beta', 'PE_Ratio',\n",
              "       'ROE', 'ROA', 'Asset_Turnover', 'Leverage', 'Rev_Growth',\n",
              "       'Net_Profit_Margin', 'Category'],\n",
              "      dtype='object')"
            ]
          },
          "metadata": {},
          "execution_count": 257
        }
      ]
    },
    {
      "cell_type": "code",
      "source": [
        "columns_list1 = {\n",
        "    1: 'Market_Cap',\n",
        "    2: 'Beta',\n",
        "    3: 'PE_Ratio',\n",
        "    4: 'ROE',\n",
        "    5: 'ROA',\n",
        "    6: 'Asset_Turnover',\n",
        "    7: 'Leverage',\n",
        "    8: 'Rev_Growth',\n",
        "    9: 'Net_Profit_Margin', \n",
        "    10: 'Symbol'}"
      ],
      "metadata": {
        "id": "tYuMCMT0OaUx"
      },
      "execution_count": null,
      "outputs": []
    },
    {
      "cell_type": "code",
      "source": [
        "X_axis = columns_list1.get(10)\n",
        "Y_axis = columns_list1.get(5)\n",
        "\n",
        "df1 = df_all[df_all.Category==0]\n",
        "df2 = df_all[df_all.Category==1]\n",
        "df3 = df_all[df_all.Category==2]\n",
        "df4 = df_all[df_all.Category==3]\n",
        "\n",
        "\n",
        "plt.scatter(df2[X_axis],df2[Y_axis],color='red')\n",
        "plt.scatter(df4[X_axis],df4[Y_axis],color='yellow')\n",
        "plt.scatter(df3[X_axis],df3[Y_axis],color='green')\n",
        "plt.scatter(df1[X_axis],df1[Y_axis],color='blue')\n",
        "\n",
        "\n",
        "plt.xticks(rotation = 90)"
      ],
      "metadata": {
        "colab": {
          "base_uri": "https://localhost:8080/",
          "height": 317
        },
        "id": "iaZgEh2jNta_",
        "outputId": "73f067da-c13b-4fa3-e211-19cf5c3df5f0"
      },
      "execution_count": null,
      "outputs": [
        {
          "output_type": "execute_result",
          "data": {
            "text/plain": [
              "([0, 1, 2, 3, 4, 5, 6, 7, 8, 9, 10, 11, 12, 13, 14, 15, 16, 17, 18, 19, 20],\n",
              " <a list of 21 Text major ticklabel objects>)"
            ]
          },
          "metadata": {},
          "execution_count": 262
        },
        {
          "output_type": "display_data",
          "data": {
            "text/plain": [
              "<Figure size 432x288 with 1 Axes>"
            ],
            "image/png": "[encoded data removed]"
          },
          "metadata": {
            "needs_background": "light"
          }
        }
      ]
    },
    {
      "cell_type": "markdown",
      "source": [
        "##### Here we can see a very strong positive coorelation when comparing the Symbols of the companies and the Return on Assets. "
      ],
      "metadata": {
        "id": "uOOZjKGNVZUA"
      }
    },
    {
      "cell_type": "code",
      "source": [
        "#Plotting the real data\n",
        "ROA_data = df.iloc[: , 6]\n",
        "df2 = df_all[['Symbol', 'Category']]\n",
        "\n",
        "ROA = pd.concat([df2, ROA_data], axis = 1)\n",
        "ROA.head()"
      ],
      "metadata": {
        "colab": {
          "base_uri": "https://localhost:8080/",
          "height": 206
        },
        "id": "ZxfTyuNBV3py",
        "outputId": "f60bfc8e-e731-4a68-f9a2-c8147d2d3eb7"
      },
      "execution_count": null,
      "outputs": [
        {
          "output_type": "execute_result",
          "data": {
            "text/plain": [
              "  Symbol  Category   ROA\n",
              "0    ABT         2  11.8\n",
              "1    AGN         1   5.5\n",
              "2    AHM         1   7.8\n",
              "3    AZN         2  15.4\n",
              "4    AVE         3   7.5"
            ],
            "text/html": [
              "\n",
              "  <div id=\"df-f145f2fc-c421-4a0f-8fea-c969e101a174\">\n",
              "    <div class=\"colab-df-container\">\n",
              "      <div>\n",
              "<style scoped>\n",
              "    .dataframe tbody tr th:only-of-type {\n",
              "        vertical-align: middle;\n",
              "    }\n",
              "\n",
              "    .dataframe tbody tr th {\n",
              "        vertical-align: top;\n",
              "    }\n",
              "\n",
              "    .dataframe thead th {\n",
              "        text-align: right;\n",
              "    }\n",
              "</style>\n",
              "<table border=\"1\" class=\"dataframe\">\n",
              "  <thead>\n",
              "    <tr style=\"text-align: right;\">\n",
              "      <th></th>\n",
              "      <th>Symbol</th>\n",
              "      <th>Category</th>\n",
              "      <th>ROA</th>\n",
              "    </tr>\n",
              "  </thead>\n",
              "  <tbody>\n",
              "    <tr>\n",
              "      <th>0</th>\n",
              "      <td>ABT</td>\n",
              "      <td>2</td>\n",
              "      <td>11.8</td>\n",
              "    </tr>\n",
              "    <tr>\n",
              "      <th>1</th>\n",
              "      <td>AGN</td>\n",
              "      <td>1</td>\n",
              "      <td>5.5</td>\n",
              "    </tr>\n",
              "    <tr>\n",
              "      <th>2</th>\n",
              "      <td>AHM</td>\n",
              "      <td>1</td>\n",
              "      <td>7.8</td>\n",
              "    </tr>\n",
              "    <tr>\n",
              "      <th>3</th>\n",
              "      <td>AZN</td>\n",
              "      <td>2</td>\n",
              "      <td>15.4</td>\n",
              "    </tr>\n",
              "    <tr>\n",
              "      <th>4</th>\n",
              "      <td>AVE</td>\n",
              "      <td>3</td>\n",
              "      <td>7.5</td>\n",
              "    </tr>\n",
              "  </tbody>\n",
              "</table>\n",
              "</div>\n",
              "      <button class=\"colab-df-convert\" onclick=\"convertToInteractive('df-f145f2fc-c421-4a0f-8fea-c969e101a174')\"\n",
              "              title=\"Convert this dataframe to an interactive table.\"\n",
              "              style=\"display:none;\">\n",
              "        \n",
              "  <svg xmlns=\"http://www.w3.org/2000/svg\" height=\"24px\"viewBox=\"0 0 24 24\"\n",
              "       width=\"24px\">\n",
              "    <path d=\"M0 0h24v24H0V0z\" fill=\"none\"/>\n",
              "    <path d=\"M18.56 5.44l.94 2.06.94-2.06 2.06-.94-2.06-.94-.94-2.06-.94 2.06-2.06.94zm-11 1L8.5 8.5l.94-2.06 2.06-.94-2.06-.94L8.5 2.5l-.94 2.06-2.06.94zm10 10l.94 2.06.94-2.06 2.06-.94-2.06-.94-.94-2.06-.94 2.06-2.06.94z\"/><path d=\"M17.41 7.96l-1.37-1.37c-.4-.4-.92-.59-1.43-.59-.52 0-1.04.2-1.43.59L10.3 9.45l-7.72 7.72c-.78.78-.78 2.05 0 2.83L4 21.41c.39.39.9.59 1.41.59.51 0 1.02-.2 1.41-.59l7.78-7.78 2.81-2.81c.8-.78.8-2.07 0-2.86zM5.41 20L4 18.59l7.72-7.72 1.47 1.35L5.41 20z\"/>\n",
              "  </svg>\n",
              "      </button>\n",
              "      \n",
              "  <style>\n",
              "    .colab-df-container {\n",
              "      display:flex;\n",
              "      flex-wrap:wrap;\n",
              "      gap: 12px;\n",
              "    }\n",
              "\n",
              "    .colab-df-convert {\n",
              "      background-color: #E8F0FE;\n",
              "      border: none;\n",
              "      border-radius: 50%;\n",
              "      cursor: pointer;\n",
              "      display: none;\n",
              "      fill: #1967D2;\n",
              "      height: 32px;\n",
              "      padding: 0 0 0 0;\n",
              "      width: 32px;\n",
              "    }\n",
              "\n",
              "    .colab-df-convert:hover {\n",
              "      background-color: #E2EBFA;\n",
              "      box-shadow: 0px 1px 2px rgba(60, 64, 67, 0.3), 0px 1px 3px 1px rgba(60, 64, 67, 0.15);\n",
              "      fill: #174EA6;\n",
              "    }\n",
              "\n",
              "    [theme=dark] .colab-df-convert {\n",
              "      background-color: #3B4455;\n",
              "      fill: #D2E3FC;\n",
              "    }\n",
              "\n",
              "    [theme=dark] .colab-df-convert:hover {\n",
              "      background-color: #434B5C;\n",
              "      box-shadow: 0px 1px 3px 1px rgba(0, 0, 0, 0.15);\n",
              "      filter: drop-shadow(0px 1px 2px rgba(0, 0, 0, 0.3));\n",
              "      fill: #FFFFFF;\n",
              "    }\n",
              "  </style>\n",
              "\n",
              "      <script>\n",
              "        const buttonEl =\n",
              "          document.querySelector('#df-f145f2fc-c421-4a0f-8fea-c969e101a174 button.colab-df-convert');\n",
              "        buttonEl.style.display =\n",
              "          google.colab.kernel.accessAllowed ? 'block' : 'none';\n",
              "\n",
              "        async function convertToInteractive(key) {\n",
              "          const element = document.querySelector('#df-f145f2fc-c421-4a0f-8fea-c969e101a174');\n",
              "          const dataTable =\n",
              "            await google.colab.kernel.invokeFunction('convertToInteractive',\n",
              "                                                     [key], {});\n",
              "          if (!dataTable) return;\n",
              "\n",
              "          const docLinkHtml = 'Like what you see? Visit the ' +\n",
              "            '<a target=\"_blank\" href=https://colab.research.google.com/notebooks/data_table.ipynb>data table notebook</a>'\n",
              "            + ' to learn more about interactive tables.';\n",
              "          element.innerHTML = '';\n",
              "          dataTable['output_type'] = 'display_data';\n",
              "          await google.colab.output.renderOutput(dataTable, element);\n",
              "          const docLink = document.createElement('div');\n",
              "          docLink.innerHTML = docLinkHtml;\n",
              "          element.appendChild(docLink);\n",
              "        }\n",
              "      </script>\n",
              "    </div>\n",
              "  </div>\n",
              "  "
            ]
          },
          "metadata": {},
          "execution_count": 260
        }
      ]
    },
    {
      "cell_type": "code",
      "source": [
        "X_axis = columns_list1.get(10)\n",
        "Y_axis = columns_list1.get(5)\n",
        "\n",
        "df1 = ROA[ROA.Category==0]\n",
        "df2 = ROA[ROA.Category==1]\n",
        "df3 = ROA[ROA.Category==2]\n",
        "df4 = ROA[ROA.Category==3]\n",
        "\n",
        "\n",
        "plt.scatter(df2[X_axis],df2[Y_axis],color='red')\n",
        "plt.scatter(df4[X_axis],df4[Y_axis],color='yellow')\n",
        "plt.scatter(df3[X_axis],df3[Y_axis],color='green')\n",
        "plt.scatter(df1[X_axis],df1[Y_axis],color='blue')\n",
        "\n",
        "\n",
        "plt.xticks(rotation = 90)"
      ],
      "metadata": {
        "colab": {
          "base_uri": "https://localhost:8080/",
          "height": 317
        },
        "id": "8M9aHWIUXGNM",
        "outputId": "96f83777-c96e-4c75-d413-ded0b73698eb"
      },
      "execution_count": null,
      "outputs": [
        {
          "output_type": "execute_result",
          "data": {
            "text/plain": [
              "([0, 1, 2, 3, 4, 5, 6, 7, 8, 9, 10, 11, 12, 13, 14, 15, 16, 17, 18, 19, 20],\n",
              " <a list of 21 Text major ticklabel objects>)"
            ]
          },
          "metadata": {},
          "execution_count": 263
        },
        {
          "output_type": "display_data",
          "data": {
            "text/plain": [
              "<Figure size 432x288 with 1 Axes>"
            ],
            "image/png": "[encoded data removed]"
          },
          "metadata": {
            "needs_background": "light"
          }
        }
      ]
    },
    {
      "cell_type": "markdown",
      "source": [
        "##### Note the difference in the Y-axis. I plotted this to see the real values compared to the groupings. "
      ],
      "metadata": {
        "id": "LaD4rOXKXcC6"
      }
    },
    {
      "cell_type": "markdown",
      "source": [
        "#### I would label both the red and yellow clusters as having low Return on Assets. Green as good or medium and the blue as excellent or high.\n",
        "\n"
      ],
      "metadata": {
        "id": "FZZg9BAfY5XT"
      }
    },
    {
      "cell_type": "markdown",
      "source": [
        "##### Interesting article on ROA: https://www.investopedia.com/terms/r/returnonassets.asp"
      ],
      "metadata": {
        "id": "0-nB00VqZPHK"
      }
    }
  ]
}
